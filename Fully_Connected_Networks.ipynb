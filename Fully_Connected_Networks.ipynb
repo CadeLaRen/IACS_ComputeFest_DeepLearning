{
 "metadata": {
  "name": "",
  "signature": "sha256:883721d2ca2116e3c32f6a5628ffdb1c0c076cfbcdbd15788625368a781f1ddd"
 },
 "nbformat": 3,
 "nbformat_minor": 0,
 "worksheets": [
  {
   "cells": [
    {
     "cell_type": "code",
     "collapsed": false,
     "input": [
      "import matplotlib\n",
      "import matplotlib.pyplot as plt\n",
      "matplotlib.pyplot.gray()\n",
      "\n",
      "%matplotlib inline\n",
      "\n",
      "\n",
      "from skdata.mnist.views import OfficialImageClassification\n",
      "import numpy as np\n",
      "\n",
      "import theano\n",
      "import theano.tensor as T\n",
      "from theano import shared, function\n",
      "rng = np.random.RandomState(42)\n",
      "\n",
      "import sys\n",
      "import time\n",
      "\n",
      "theano.config.floatX = 'float32'"
     ],
     "language": "python",
     "metadata": {},
     "outputs": [],
     "prompt_number": 1
    },
    {
     "cell_type": "markdown",
     "metadata": {},
     "source": [
      "# ComputeFest 2015 - Deep Learning Workshop Part 1 - Fully Connected Networks\n",
      "\n",
      "Today we will focus on fully connected networks. We follow the traditional scheme and tackle the traditional task of hand written digit classification. First we use a shallow classifier, simple logistic regression, to get started. Then we add layers to our model to make it more powerful. But, first let's start by loading and looking at the data. \n",
      "We will make heavy use of the resources in the Theano deep learning tutorial. Please clone the repository so you have all the resources at hand. \n",
      "\n",
      "`git clone git://github.com/lisa-lab/DeepLearningTutorials.git`\n",
      "\n",
      "Now we have to add this directory to the PythonPath. Depending on the location of your git repository you might have to change this path.\n",
      "\n",
      "\n",
      "\n"
     ]
    },
    {
     "cell_type": "code",
     "collapsed": false,
     "input": [
      "sys.path.insert(1,'../ComputeFest2015_Resources/DeepLearningTutorials/code')\n",
      "sys.path"
     ],
     "language": "python",
     "metadata": {},
     "outputs": [
      {
       "metadata": {},
       "output_type": "pyout",
       "prompt_number": 2,
       "text": [
        "['',\n",
        " '../ComputeFest2015_Resources/DeepLearningTutorials/code',\n",
        " 'C:\\\\Python27\\\\lib\\\\site-packages\\\\pyautodiff-0.0.1-py2.7.egg',\n",
        " 'C:\\\\Python27\\\\lib\\\\site-packages\\\\autodiff-0.4-py2.7.egg',\n",
        " 'C:\\\\Python27\\\\lib\\\\site-packages\\\\meta-_-py2.7.egg',\n",
        " \"C:\\\\Users\\\\vkaynig\\\\Documents\\\\ComputeFest2015_DeepLearning\\\\'.'\",\n",
        " 'C:\\\\Windows\\\\SYSTEM32\\\\python27.zip',\n",
        " 'C:\\\\Python27\\\\DLLs',\n",
        " 'C:\\\\Python27\\\\lib',\n",
        " 'C:\\\\Python27\\\\lib\\\\plat-win',\n",
        " 'C:\\\\Python27\\\\lib\\\\lib-tk',\n",
        " 'C:\\\\Python27',\n",
        " 'C:\\\\Python27\\\\lib\\\\site-packages',\n",
        " 'C:\\\\Python27\\\\lib\\\\site-packages\\\\IPython\\\\extensions']"
       ]
      }
     ],
     "prompt_number": 2
    },
    {
     "cell_type": "markdown",
     "metadata": {},
     "source": [
      "## The Task: Handwritten Digit Recognition \n",
      "Classifying handwritten digits is like the 'hello world' for deep learning methods. It is how everyone normally starts to get used to the models and how to best train them. Interstingly though, it is not just for beginners. There are still papers published nowadays that use MNIST to evaluate new methods. There is some debate on whether this is still useful or not, but we won't care about this discussion for now. \n",
      "\n",
      "MNIST consists of 70 000 small image patches, each showing a handwritten digit character in white on a black background. There are 10 different classes (the digits from 0-9). Let's load the data and have a look."
     ]
    },
    {
     "cell_type": "code",
     "collapsed": false,
     "input": [
      "from logistic_sgd import load_data\n",
      "dataset='mnist.pkl.gz'\n",
      "\n",
      "## If not already cached this function actually downloads the data\n",
      "datasets = load_data(dataset)\n",
      "\n",
      "train_set_x, train_set_y = datasets[0]\n",
      "valid_set_x, valid_set_y = datasets[1]\n",
      "test_set_x, test_set_y = datasets[2]\n"
     ],
     "language": "python",
     "metadata": {},
     "outputs": [
      {
       "output_type": "stream",
       "stream": "stdout",
       "text": [
        "... loading data\n"
       ]
      }
     ],
     "prompt_number": 3
    },
    {
     "cell_type": "markdown",
     "metadata": {},
     "source": [
      "## Theano Shared Variables"
     ]
    },
    {
     "cell_type": "code",
     "collapsed": false,
     "input": [
      "print train_set_x\n"
     ],
     "language": "python",
     "metadata": {},
     "outputs": [
      {
       "output_type": "stream",
       "stream": "stdout",
       "text": [
        "<TensorType(float32, matrix)>\n"
       ]
      }
     ],
     "prompt_number": 4
    },
    {
     "cell_type": "markdown",
     "metadata": {},
     "source": [
      "Now that looks a bit odd, why can't we see the values of our data matrix? The `load_data` function provided by the deep learning tutorial downloads the data and loads it into a shared variable. Shared variables are an important and genious concept in Theano. What it means is that the data can be shared between the CPU and the GPU without you having to write a single line of code! You basically do not have to care at all where your data lives, unless you are running out of memory, which is another story we can talk about later. For now let us only worry about how we can access the actual values of the data matrix:"
     ]
    },
    {
     "cell_type": "code",
     "collapsed": false,
     "input": [
      "print train_set_x.get_value()"
     ],
     "language": "python",
     "metadata": {},
     "outputs": [
      {
       "output_type": "stream",
       "stream": "stdout",
       "text": [
        "[[ 0.  0.  0. ...,  0.  0.  0.]\n",
        " [ 0.  0.  0. ...,  0.  0.  0.]\n",
        " [ 0.  0.  0. ...,  0.  0.  0.]\n",
        " ..., \n",
        " [ 0.  0.  0. ...,  0.  0.  0.]\n",
        " [ 0.  0.  0. ...,  0.  0.  0.]\n",
        " [ 0.  0.  0. ...,  0.  0.  0.]]\n"
       ]
      }
     ],
     "prompt_number": 5
    },
    {
     "cell_type": "code",
     "collapsed": false,
     "input": [
      "print \"Size of the training data matrix: \", train_set_x.get_value().shape"
     ],
     "language": "python",
     "metadata": {},
     "outputs": [
      {
       "output_type": "stream",
       "stream": "stdout",
       "text": [
        "Size of the training data matrix:  "
       ]
      },
      {
       "output_type": "stream",
       "stream": "stdout",
       "text": [
        "(50000, 784)\n"
       ]
      }
     ],
     "prompt_number": 6
    },
    {
     "cell_type": "markdown",
     "metadata": {},
     "source": [
      "The data is stored with one training sample per row. The original image patches are $28 \\times 28$ pixels, hence we have $28 \\cdot 28 = 784$ feature columns in our data matrix. We can reshape each row of our data matrix back to the original $28 \\times 28$ image patch to visualize what the data looks like."
     ]
    },
    {
     "cell_type": "code",
     "collapsed": false,
     "input": [
      "from utils import tile_raster_images\n",
      "\n",
      "samples = tile_raster_images(train_set_x.get_value(), img_shape=(28,28), tile_shape=(3,10), tile_spacing=(0, 0),\n",
      "                       scale_rows_to_unit_interval=True,\n",
      "                       output_pixel_vals=True)\n",
      "\n",
      "plt.imshow(samples)\n",
      "plt.show()"
     ],
     "language": "python",
     "metadata": {},
     "outputs": [
      {
       "metadata": {},
       "output_type": "display_data",
       "png": "[encoded data removed]",
       "text": [
        "<matplotlib.figure.Figure at 0xcc02470>"
       ]
      }
     ],
     "prompt_number": 7
    },
    {
     "cell_type": "markdown",
     "metadata": {},
     "source": [
      "So each image patch contains a hand written digit in white on a black background. The strokes vary in thickness and there is quite some variability in the hand writing. "
     ]
    },
    {
     "cell_type": "markdown",
     "metadata": {},
     "source": [
      "The labels of the different image patches are stored in our variable `train_set_y`. When we print this variable it looks different than for our training data, and there is no `get_value()` function that we can call to access the labels."
     ]
    },
    {
     "cell_type": "code",
     "collapsed": false,
     "input": [
      "print train_set_y"
     ],
     "language": "python",
     "metadata": {},
     "outputs": [
      {
       "output_type": "stream",
       "stream": "stdout",
       "text": [
        "Elemwise{Cast{int32}}.0\n"
       ]
      }
     ],
     "prompt_number": 8
    },
    {
     "cell_type": "markdown",
     "metadata": {},
     "source": [
      "The reason is that the `load_data` function casted our labels to integers. Why would it do that? The GPU can only store float variables, so all shared variables are stored as float. Our labels are integers though and later on we want to use them as indices, which requires them to be integers. As a workaround `load_data` first stores the labels as floats and then casts them to integer. As you can see from the `print` statement, Theano does not execute the casting right away. Instead it keeps a record of all the computations that are to be performed on the shared variable in a computational graph. This is another genious concept of Theano, because when these graphs get more complicated, it optimizes the whole graph for computational efficiency and numerical stability. If you want to know more about the computational graph structures and their optimization in Theano you can look [here](http://deeplearning.net/software/theano/tutorial/symbolic_graphs.html).\n",
      "\n",
      "To access the labels we need to tell Theano to exectue all computations from the corresponding graph. We do this by calling `eval()`:"
     ]
    },
    {
     "cell_type": "code",
     "collapsed": false,
     "input": [
      "print train_set_y.eval()[:10]"
     ],
     "language": "python",
     "metadata": {},
     "outputs": [
      {
       "output_type": "stream",
       "stream": "stdout",
       "text": [
        "[5 0 4 1 9 2 1 3 1 4]\n"
       ]
      }
     ],
     "prompt_number": 9
    },
    {
     "cell_type": "markdown",
     "metadata": {},
     "source": [
      "## Exercise: Data Normalization\n",
      "\n",
      "Deep learning algorithms typically work best when you normalize your data. A standard procedure is to normalize the mean and the standard deviation of each feature column.\n",
      "Use the training data to estimate the mean normalization, and then use these values to normralize the training, the validation and the test data. Then use the `tile_raster_images` fuction as above to visualize some normalized training patches. Hint: you can basically deal with the shared variables as if they were numpy arrays. "
     ]
    },
    {
     "cell_type": "code",
     "collapsed": false,
     "input": [
      "# estimate the mean and std dev from the training data\n",
      "\n",
      "norm_mean = train_set_x.mean(axis=0)\n",
      "train_set_x = train_set_x - norm_mean\n",
      "norm_std = train_set_x.std(axis=0)\n",
      "norm_std = norm_std.clip(0.00001, norm_std.max())\n",
      "train_set_x = train_set_x / norm_std \n",
      "\n",
      "test_set_x = test_set_x - norm_mean\n",
      "test_set_x = test_set_x / norm_std \n",
      "valid_set_x = valid_set_x - norm_mean\n",
      "valid_set_x = valid_set_x / norm_std "
     ],
     "language": "python",
     "metadata": {},
     "outputs": [],
     "prompt_number": 10
    },
    {
     "cell_type": "code",
     "collapsed": false,
     "input": [
      "samples = tile_raster_images(train_set_x.eval(), img_shape=(28,28), tile_shape=(3,10), tile_spacing=(0, 0),\n",
      "                       scale_rows_to_unit_interval=True,\n",
      "                       output_pixel_vals=True)\n",
      "\n",
      "plt.imshow(samples)\n",
      "plt.show()"
     ],
     "language": "python",
     "metadata": {},
     "outputs": [
      {
       "metadata": {},
       "output_type": "display_data",
       "png": "[encoded data removed]",
       "text": [
        "<matplotlib.figure.Figure at 0xcdcce70>"
       ]
      }
     ],
     "prompt_number": 11
    },
    {
     "cell_type": "markdown",
     "metadata": {},
     "source": [
      "## Logistic Regression\n",
      "\n",
      "We have seen the basics of logistic regression in the theory part of the workshop. Now it is time to actually apply the method to some data using Theano. We start with this `shallow` classifier and then will add more layers later on. \n",
      "\n",
      "From the slides we remember that the logistic regression model has the weight parameters W and the biases b. We need to intialize these as Theano variables. In addition we create placeholders for our data by declaring a data matrix `x`, and a label vector `y`. Note that we do not assign our actual training data to the variables `x` and `y`. Theano can create the whole computational graph for `x` and `y` without knowing the actual values. "
     ]
    },
    {
     "cell_type": "code",
     "collapsed": false,
     "input": [
      "# Step 1. Declare Theano variables\n",
      "x = T.fmatrix()\n",
      "y = T.ivector()\n",
      "W = shared(value=np.zeros((28*28, 10), # size of our image patches, and number of output units (classes)\n",
      "                dtype=theano.config.floatX),\n",
      "            name='W',\n",
      "            borrow=True\n",
      "        )\n",
      "b = shared(value=np.zeros((10,), # number of output units (classes)\n",
      "                dtype=theano.config.floatX),\n",
      "            name='b',\n",
      "            borrow=True\n",
      "        )"
     ],
     "language": "python",
     "metadata": {},
     "outputs": [],
     "prompt_number": 12
    },
    {
     "cell_type": "markdown",
     "metadata": {},
     "source": [
      "Now we create all necessary functions for the computation. We need the likelihood to make predictions, the negative log likelihood as our cost function to optimize, the actual conversion of the class probabilities to class labels, and the classification error. "
     ]
    },
    {
     "cell_type": "code",
     "collapsed": false,
     "input": [
      "# Step 2. Construct Theano expression graph\n",
      "\n",
      "p_y_given_x = T.nnet.softmax(T.dot(x, W) + b)\n",
      "cost = -T.mean(T.log(p_y_given_x)[T.arange(y.shape[0]), y])\n",
      "\n",
      "y_pred = T.argmax(p_y_given_x, axis=1)\n",
      "error = T.mean(T.neq(y_pred, y))\n"
     ],
     "language": "python",
     "metadata": {},
     "outputs": [],
     "prompt_number": 13
    },
    {
     "cell_type": "markdown",
     "metadata": {},
     "source": [
      "Now comes the really cool part. We do not have to bother to compute the gradient ourselves! Theano is capable of computing the gradient for us. We just call the `T.grad()` function on our cost function and specify with respect to which parameter the derivative should be computed. Then we can use the computed gradient to perform an iteration of gradient decent. We just update the parameters by taking a small step into the right direction on the cost function surface. The size of the step is specified by the learning rate. If you are interested in the best performance for your network, the learning rate is a very important parameter to tune. Typically smaller values work better, but take longer. We will talk more about this in the tips and tricks section of the workshop. "
     ]
    },
    {
     "cell_type": "code",
     "collapsed": false,
     "input": [
      "g_W = T.grad(cost=cost, wrt=W)\n",
      "g_b = T.grad(cost=cost, wrt=b)\n",
      "\n",
      "learning_rate = 0.01\n",
      "\n",
      "updates = [(W, W - learning_rate * g_W),\n",
      "           (b, b - learning_rate * g_b)]"
     ],
     "language": "python",
     "metadata": {},
     "outputs": [],
     "prompt_number": 14
    },
    {
     "cell_type": "markdown",
     "metadata": {},
     "source": [
      "## Theano Functions\n",
      "\n",
      "Now we are ready to compile everything we defined so far into a callable function to update our parameters and train our logistic regression classifier. How do we do this? Above we defined our placeholders `x` and `y` for the training data. And we defined `cost` as a function (actually its a Theano computational graph) depending on these placeholders. We now use the `function` interface provided by Theano to create a function that we can call directly on our training data, e.g., binding the training data to the placeholders `x` and `y`. To create this function we need to specify the `inputs` and the `outputs`. In addition the `function` interface has a convenient option to apply our gradient decent updates to the parameters. All we do is pass along the `updates` list we defined in the cell above. "
     ]
    },
    {
     "cell_type": "code",
     "collapsed": false,
     "input": [
      "# Step 3. Compile expressions to functions\n",
      "train = function(inputs=[x, y],\n",
      "                 outputs=cost,\n",
      "                 updates=updates)\n",
      "\n",
      "test = function(inputs=[x, y],\n",
      "                outputs=error)"
     ],
     "language": "python",
     "metadata": {},
     "outputs": [],
     "prompt_number": 15
    },
    {
     "cell_type": "markdown",
     "metadata": {},
     "source": [
      "As you can see the inputs are our placeholders `x` and `y`. When we call our function `test` it will ask for two parameters. When we call it with our training samples and their labels, the matrix `train_set_x` gets bound to `x` and `train_set_y` to `y`. The function then traverses the computational graph specified by the outputs, in this case `error`. Thus, the test function will give us our training error when we call it on the training data. We can also call it on the test data to obtain the test error. \n",
      "\n",
      "Now we really have everything in place to train our classifier!"
     ]
    },
    {
     "cell_type": "code",
     "collapsed": true,
     "input": [
      "# Step 4. Perform computation\n",
      "train_monitor = []\n",
      "test_monitor = []\n",
      "\n",
      "n_epochs = 5\n",
      "\n",
      "start_time = time.clock()\n",
      "for epoch in range(n_epochs):\n",
      "    loss = train(train_set_x.eval(), train_set_y.eval())\n",
      "    train_monitor.append(test(train_set_x.eval(), train_set_y.eval()))\n",
      "    test_monitor.append(test(test_set_x.eval(),test_set_y.eval()))\n",
      "    if epoch%1 == 0:\n",
      "        print \"Iteration: \", epoch\n",
      "        print \"Training error, test error: \", train_monitor[-1], test_monitor[-1]\n",
      "end_time = time.clock()    \n",
      "print 'The code ran for %f seconds' % ((end_time - start_time))"
     ],
     "language": "python",
     "metadata": {},
     "outputs": [
      {
       "output_type": "stream",
       "stream": "stdout",
       "text": [
        "Iteration:  0\n",
        "Training error, test error:  0.26888 0.2483\n",
        "Iteration: "
       ]
      },
      {
       "output_type": "stream",
       "stream": "stdout",
       "text": [
        " 1\n",
        "Training error, test error:  0.26696 0.2462\n",
        "Iteration: "
       ]
      },
      {
       "output_type": "stream",
       "stream": "stdout",
       "text": [
        " 2\n",
        "Training error, test error:  0.2649 0.2443\n",
        "Iteration: "
       ]
      },
      {
       "output_type": "stream",
       "stream": "stdout",
       "text": [
        " 3\n",
        "Training error, test error:  0.26292 0.2424\n",
        "Iteration: "
       ]
      },
      {
       "output_type": "stream",
       "stream": "stdout",
       "text": [
        " 4\n",
        "Training error, test error:  0.26102 0.2401\n",
        "The code ran for 22.575208 seconds\n"
       ]
      }
     ],
     "prompt_number": 16
    },
    {
     "cell_type": "markdown",
     "metadata": {},
     "source": [
      "That is way too slow! Looks like all those graph evaluations cost a lot of time. Unfortunately Theano functions do not allow shared variables as direct input (more about this soon). So let's at least just do the evaluation once and save it in a normal non-shared variable that we can call our functions with. "
     ]
    },
    {
     "cell_type": "code",
     "collapsed": true,
     "input": [
      "# Step 4. Perform computation\n",
      "# reset W and b to zero\n",
      "W.set_value(np.zeros((28*28, 10),\n",
      "                dtype=theano.config.floatX)) \n",
      "b.set_value(np.zeros((10,),\n",
      "                dtype=theano.config.floatX))\n",
      "\n",
      "train_monitor = []\n",
      "test_monitor = []\n",
      "\n",
      "n_epochs = 5\n",
      "\n",
      "trainx = train_set_x.eval()\n",
      "trainy = train_set_y.eval()\n",
      "testx = test_set_x.eval()\n",
      "testy = test_set_y.eval()\n",
      "\n",
      "start_time = time.clock()\n",
      "for epoch in range(n_epochs):\n",
      "    loss = train(trainx, trainy)\n",
      "    train_monitor.append(test(trainx, trainy))\n",
      "    test_monitor.append(test(testx,testy))\n",
      "    if epoch%1 == 0:\n",
      "        print \"Iteration: \", epoch\n",
      "        print \"Training error, test error: \", train_monitor[-1], test_monitor[-1]\n",
      "end_time = time.clock()    \n",
      "print 'The code ran for %f seconds' % ((end_time - start_time))"
     ],
     "language": "python",
     "metadata": {},
     "outputs": [
      {
       "output_type": "stream",
       "stream": "stdout",
       "text": [
        "Iteration:  0\n",
        "Training error, test error:  0.26888 0.2483\n",
        "Iteration: "
       ]
      },
      {
       "output_type": "stream",
       "stream": "stdout",
       "text": [
        " 1\n",
        "Training error, test error:  0.26696 0.2462\n",
        "Iteration: "
       ]
      },
      {
       "output_type": "stream",
       "stream": "stdout",
       "text": [
        " 2\n",
        "Training error, test error:  0.2649 0.2443\n",
        "Iteration: "
       ]
      },
      {
       "output_type": "stream",
       "stream": "stdout",
       "text": [
        " 3\n",
        "Training error, test error:  0.26292 0.2424\n",
        "Iteration: "
       ]
      },
      {
       "output_type": "stream",
       "stream": "stdout",
       "text": [
        " 4\n",
        "Training error, test error:  0.26102 0.2401\n",
        "The code ran for 0.983634 seconds\n"
       ]
      }
     ],
     "prompt_number": 17
    },
    {
     "cell_type": "markdown",
     "metadata": {},
     "source": [
      "That looks more reasonable. As we already know the number of epochs we are going to train for, we could also fix the size of our monitor variables beforehand and then fill them during training. "
     ]
    },
    {
     "cell_type": "code",
     "collapsed": false,
     "input": [
      "plt.plot(train_monitor, c='r')\n",
      "plt.plot(test_monitor, c='b')\n",
      "plt.xlabel('Number of Epochs')\n",
      "plt.ylabel('Missclassification')\n",
      "plt.show()\n"
     ],
     "language": "python",
     "metadata": {},
     "outputs": [
      {
       "metadata": {},
       "output_type": "display_data",
       "png": "[encoded data removed]",
       "text": [
        "<matplotlib.figure.Figure at 0x10ac9150>"
       ]
      }
     ],
     "prompt_number": 18
    },
    {
     "cell_type": "markdown",
     "metadata": {},
     "source": [
      "## Theano Functions with Shared Variable Input\n",
      "### Introducing batch size\n",
      "\n",
      "It seems quite limiting that we are not allowed to just use our shared variables directly as input in the defined Theano functions. After all the whole idea behind the shared variables is to have our data potentially on the GPU, and we don't want to copy it back and forth all the time. There is another mechanism in Theano functions to achieve shared variable input: the `givens` parameter. When I first enocuntered it, I found it very confusing, which is why we are going to look at the conversion of our functions in two steps: First we are going to redefine the training and test function to work with shared variables, and then we are going to introduce batch training for stochastic gradient decent. For batch training we want to use only part of the data to already compute an update. An epoch then consists of several runs over all batches, until all training data has been seen once, then we start all over again like before. \n",
      "\n",
      "First let's look at our definition of the train function and what they look like for shared variables:"
     ]
    },
    {
     "cell_type": "code",
     "collapsed": false,
     "input": [
      "train = function(inputs=[],\n",
      "                 outputs=[cost, error],\n",
      "                 updates=updates,\n",
      "                 givens={x: train_set_x, y: train_set_y}\n",
      "                 )\n",
      "\n",
      "test = function(inputs=[],\n",
      "                outputs=error,\n",
      "                givens={x: test_set_x, y: test_set_y}\n",
      "                )"
     ],
     "language": "python",
     "metadata": {},
     "outputs": [],
     "prompt_number": 19
    },
    {
     "cell_type": "markdown",
     "metadata": {},
     "source": [
      "Remember that we defined our `cost` and `error` dependent on the placeholder variables `x` and `y`. Now we are using thing `givens` parameter to substitute `x` and `y` with our training and test data. This is all the `givens` parameter does. It can be used to replace any symbolic variable, not just shared ones. You can even replace constants or whole expressions. Careful though: Expressions should not be co-dependent, as the order of execution is not defined, so the replacements have to work in any order. \n",
      "There is a small price attached to this way of defining our functions. The data is now hardcoded into the definition. This means we either have to define a training_error function, or we can add the error to the output of our training function. "
     ]
    },
    {
     "cell_type": "code",
     "collapsed": false,
     "input": [
      "train_set_x"
     ],
     "language": "python",
     "metadata": {},
     "outputs": [
      {
       "metadata": {},
       "output_type": "pyout",
       "prompt_number": 28,
       "text": [
        "Elemwise{true_div,no_inplace}.0"
       ]
      }
     ],
     "prompt_number": 28
    },
    {
     "cell_type": "code",
     "collapsed": false,
     "input": [
      "# Step 4. Perform computation\n",
      "# reset W and b to zero\n",
      "W.set_value(np.zeros((28*28, 10),\n",
      "                dtype=theano.config.floatX)) \n",
      "b.set_value(np.zeros((10,),\n",
      "                dtype=theano.config.floatX))\n",
      "\n",
      "train_monitor = []\n",
      "test_monitor = []\n",
      "\n",
      "n_epochs = 5\n",
      "\n",
      "start_time = time.clock()\n",
      "for epoch in range(n_epochs):\n",
      "    test_monitor.append(test())\n",
      "    loss, err = train()\n",
      "    train_monitor.append(err)\n",
      "    if epoch%1 == 0:\n",
      "        print \"Iteration: \", epoch\n",
      "        print \"Training error, test error: \", train_monitor[-1], test_monitor[-1]\n",
      "end_time = time.clock()    \n",
      "print 'The code ran for %f seconds' % ((end_time - start_time))"
     ],
     "language": "python",
     "metadata": {},
     "outputs": [
      {
       "ename": "AttributeError",
       "evalue": "'TensorVariable' object has no attribute 'set_value'",
       "output_type": "pyerr",
       "traceback": [
        "\u001b[1;31m---------------------------------------------------------------------------\u001b[0m\n\u001b[1;31mAttributeError\u001b[0m                            Traceback (most recent call last)",
        "\u001b[1;32m<ipython-input-25-d4d32564be93>\u001b[0m in \u001b[0;36m<module>\u001b[1;34m()\u001b[0m\n\u001b[0;32m      6\u001b[0m                 dtype=theano.config.floatX))\n\u001b[0;32m      7\u001b[0m \u001b[1;33m\u001b[0m\u001b[0m\n\u001b[1;32m----> 8\u001b[1;33m \u001b[0mtrain_set_x\u001b[0m\u001b[1;33m.\u001b[0m\u001b[0mset_value\u001b[0m\u001b[1;33m(\u001b[0m\u001b[0mtrain_set_x\u001b[0m\u001b[1;33m.\u001b[0m\u001b[0meval\u001b[0m\u001b[1;33m(\u001b[0m\u001b[1;33m)\u001b[0m\u001b[1;33m)\u001b[0m\u001b[1;33m\u001b[0m\u001b[0m\n\u001b[0m\u001b[0;32m      9\u001b[0m \u001b[1;33m\u001b[0m\u001b[0m\n\u001b[0;32m     10\u001b[0m \u001b[0mtrain_monitor\u001b[0m \u001b[1;33m=\u001b[0m \u001b[1;33m[\u001b[0m\u001b[1;33m]\u001b[0m\u001b[1;33m\u001b[0m\u001b[0m\n",
        "\u001b[1;31mAttributeError\u001b[0m: 'TensorVariable' object has no attribute 'set_value'"
       ]
      }
     ],
     "prompt_number": 25
    },
    {
     "cell_type": "markdown",
     "metadata": {},
     "source": [
      "Something weird is going on here. Note that the training error of the first iteration is really high and different from what we have seen before. The reason is that the error is computed by the training function before the actual update. To get a fair comparison of train and test error, we can just call the test function before we do the training step. This means we are missing the final performance of our classifier, so you would have to run an additional evaluation round in the end. Preferably with entirely new test data that you haven't looked at before. "
     ]
    },
    {
     "cell_type": "code",
     "collapsed": false,
     "input": [
      "train_batch = function(inputs=[index],\n",
      "                       outputs=cost,\n",
      "                       updates=updates,\n",
      "                       givens={\n",
      "            x: xtrain[index * batch_size: (index + 1) * batch_size],\n",
      "            y: ytrain[index * batch_size: (index + 1) * batch_size]\n",
      "        }\n",
      "    )"
     ],
     "language": "python",
     "metadata": {},
     "outputs": []
    },
    {
     "cell_type": "code",
     "collapsed": false,
     "input": [
      "# reset W and b to zero\n",
      "\n",
      "W.set_value(np.zeros((28*28, 10),\n",
      "                dtype=theano.config.floatX)) \n",
      "\n",
      "b.set_value(np.zeros((10,),\n",
      "                dtype=theano.config.floatX))\n",
      "xtrain = task.all_images[0:train_size].reshape((train_size,28*28))\n",
      "ytrain = task.all_labels[0:train_size]\n",
      "\n",
      "batch_size = 10\n",
      "\n",
      "index = T.iscalar()\n",
      "n_train_batches = xtrain.shape[0] / batch_size\n",
      "xtrain = shared(xtrain.astype('int32'))\n",
      "ytrain = shared(ytrain)\n",
      "\n",
      "    \n"
     ],
     "language": "python",
     "metadata": {},
     "outputs": [],
     "prompt_number": 28
    },
    {
     "cell_type": "code",
     "collapsed": false,
     "input": [],
     "language": "python",
     "metadata": {},
     "outputs": []
    },
    {
     "cell_type": "code",
     "collapsed": false,
     "input": [],
     "language": "python",
     "metadata": {},
     "outputs": []
    },
    {
     "cell_type": "code",
     "collapsed": true,
     "input": [
      "# Step 4. Perform computation\n",
      "train_monitor_batch = []\n",
      "test_monitor_batch = []\n",
      "for epoch in range(n_epochs):\n",
      "    for batch_index in range(n_train_batches):\n",
      "        loss, pred = train_batch(batch_index)\n",
      "    train_monitor_batch.append(test(xtrain.get_value(), ytrain.get_value()))\n",
      "    test_monitor_batch.append(test(xtest,ytest))\n",
      "    if epoch%5 == 0:\n",
      "        print \"Iteration: \", epoch\n",
      "        print \"Training error, test error: \", train_monitor_batch[-1], test_monitor_batch[-1]\n",
      "    "
     ],
     "language": "python",
     "metadata": {},
     "outputs": [
      {
       "output_type": "stream",
       "stream": "stdout",
       "text": [
        "Iteration:  0\n",
        "Training error, test error:  0.1185 0.126\n",
        "Iteration: "
       ]
      },
      {
       "output_type": "stream",
       "stream": "stdout",
       "text": [
        " 5\n",
        "Training error, test error:  0.1185 0.126\n",
        "Iteration: "
       ]
      },
      {
       "output_type": "stream",
       "stream": "stdout",
       "text": [
        " 10\n",
        "Training error, test error:  0.1185 0.126\n",
        "Iteration: "
       ]
      },
      {
       "output_type": "stream",
       "stream": "stdout",
       "text": [
        " 15\n",
        "Training error, test error:  0.1185 0.126\n",
        "Iteration: "
       ]
      },
      {
       "output_type": "stream",
       "stream": "stdout",
       "text": [
        " 20\n",
        "Training error, test error:  0.1185 0.126\n",
        "Iteration: "
       ]
      },
      {
       "output_type": "stream",
       "stream": "stdout",
       "text": [
        " 25\n",
        "Training error, test error:  0.1185 0.126\n",
        "Iteration: "
       ]
      },
      {
       "output_type": "stream",
       "stream": "stdout",
       "text": [
        " 30\n",
        "Training error, test error:  0.1185 0.126\n",
        "Iteration: "
       ]
      },
      {
       "output_type": "stream",
       "stream": "stdout",
       "text": [
        " 35\n",
        "Training error, test error:  0.1185 0.126\n",
        "Iteration: "
       ]
      },
      {
       "output_type": "stream",
       "stream": "stdout",
       "text": [
        " 40\n",
        "Training error, test error:  0.1185 0.126\n",
        "Iteration: "
       ]
      },
      {
       "output_type": "stream",
       "stream": "stdout",
       "text": [
        " 45\n",
        "Training error, test error:  0.1185 0.126\n",
        "Iteration: "
       ]
      },
      {
       "output_type": "stream",
       "stream": "stdout",
       "text": [
        " 50\n",
        "Training error, test error:  0.1185 0.126\n",
        "Iteration: "
       ]
      },
      {
       "output_type": "stream",
       "stream": "stdout",
       "text": [
        " 55\n",
        "Training error, test error:  0.1185 0.126\n",
        "Iteration: "
       ]
      },
      {
       "output_type": "stream",
       "stream": "stdout",
       "text": [
        " 60\n",
        "Training error, test error:  0.1185 0.126\n",
        "Iteration: "
       ]
      },
      {
       "output_type": "stream",
       "stream": "stdout",
       "text": [
        " 65\n",
        "Training error, test error:  0.1185 0.126\n",
        "Iteration: "
       ]
      },
      {
       "output_type": "stream",
       "stream": "stdout",
       "text": [
        " 70\n",
        "Training error, test error:  0.1185 0.126\n",
        "Iteration: "
       ]
      },
      {
       "output_type": "stream",
       "stream": "stdout",
       "text": [
        " 75\n",
        "Training error, test error:  0.1185 0.126\n",
        "Iteration: "
       ]
      },
      {
       "output_type": "stream",
       "stream": "stdout",
       "text": [
        " 80\n",
        "Training error, test error:  0.1185 0.126\n",
        "Iteration: "
       ]
      },
      {
       "output_type": "stream",
       "stream": "stdout",
       "text": [
        " 85\n",
        "Training error, test error:  0.1185 0.126\n",
        "Iteration: "
       ]
      },
      {
       "output_type": "stream",
       "stream": "stdout",
       "text": [
        " 90\n",
        "Training error, test error:  0.1185 0.126\n",
        "Iteration: "
       ]
      },
      {
       "output_type": "stream",
       "stream": "stdout",
       "text": [
        " 95\n",
        "Training error, test error:  0.1185 0.126\n"
       ]
      }
     ],
     "prompt_number": 34
    },
    {
     "cell_type": "code",
     "collapsed": false,
     "input": [
      "plt.plot(train_monitor_batch, c='r')\n",
      "plt.plot(test_monitor_batch, c='b')\n",
      "\n",
      "plt.plot(train_monitor, c='m')\n",
      "plt.plot(test_monitor, c='c')\n",
      "\n",
      "plt.show()"
     ],
     "language": "python",
     "metadata": {},
     "outputs": [
      {
       "ename": "NameError",
       "evalue": "name 'train_monitor_batch' is not defined",
       "output_type": "pyerr",
       "traceback": [
        "\u001b[1;31m---------------------------------------------------------------------------\u001b[0m\n\u001b[1;31mNameError\u001b[0m                                 Traceback (most recent call last)",
        "\u001b[1;32m<ipython-input-37-d8bba1db40c0>\u001b[0m in \u001b[0;36m<module>\u001b[1;34m()\u001b[0m\n\u001b[1;32m----> 1\u001b[1;33m \u001b[0mplt\u001b[0m\u001b[1;33m.\u001b[0m\u001b[0mplot\u001b[0m\u001b[1;33m(\u001b[0m\u001b[0mtrain_monitor_batch\u001b[0m\u001b[1;33m,\u001b[0m \u001b[0mc\u001b[0m\u001b[1;33m=\u001b[0m\u001b[1;34m'r'\u001b[0m\u001b[1;33m)\u001b[0m\u001b[1;33m\u001b[0m\u001b[0m\n\u001b[0m\u001b[0;32m      2\u001b[0m \u001b[0mplt\u001b[0m\u001b[1;33m.\u001b[0m\u001b[0mplot\u001b[0m\u001b[1;33m(\u001b[0m\u001b[0mtest_monitor_batch\u001b[0m\u001b[1;33m,\u001b[0m \u001b[0mc\u001b[0m\u001b[1;33m=\u001b[0m\u001b[1;34m'b'\u001b[0m\u001b[1;33m)\u001b[0m\u001b[1;33m\u001b[0m\u001b[0m\n\u001b[0;32m      3\u001b[0m \u001b[1;33m\u001b[0m\u001b[0m\n\u001b[0;32m      4\u001b[0m \u001b[0mplt\u001b[0m\u001b[1;33m.\u001b[0m\u001b[0mplot\u001b[0m\u001b[1;33m(\u001b[0m\u001b[0mtrain_monitor\u001b[0m\u001b[1;33m,\u001b[0m \u001b[0mc\u001b[0m\u001b[1;33m=\u001b[0m\u001b[1;34m'm'\u001b[0m\u001b[1;33m)\u001b[0m\u001b[1;33m\u001b[0m\u001b[0m\n\u001b[0;32m      5\u001b[0m \u001b[0mplt\u001b[0m\u001b[1;33m.\u001b[0m\u001b[0mplot\u001b[0m\u001b[1;33m(\u001b[0m\u001b[0mtest_monitor\u001b[0m\u001b[1;33m,\u001b[0m \u001b[0mc\u001b[0m\u001b[1;33m=\u001b[0m\u001b[1;34m'c'\u001b[0m\u001b[1;33m)\u001b[0m\u001b[1;33m\u001b[0m\u001b[0m\n",
        "\u001b[1;31mNameError\u001b[0m: name 'train_monitor_batch' is not defined"
       ]
      }
     ],
     "prompt_number": 37
    },
    {
     "cell_type": "markdown",
     "metadata": {},
     "source": [
      "## Making the model deep"
     ]
    },
    {
     "cell_type": "code",
     "collapsed": false,
     "input": [],
     "language": "python",
     "metadata": {},
     "outputs": [],
     "prompt_number": 35
    }
   ],
   "metadata": {}
  }
 ]
}