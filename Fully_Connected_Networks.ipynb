{
 "metadata": {
  "name": "",
  "signature": "sha256:52a6e4f556612f08e227c26c2078c91917c34ad6ca209ad4393b9a7af3b856b0"
 },
 "nbformat": 3,
 "nbformat_minor": 0,
 "worksheets": [
  {
   "cells": [
    {
     "cell_type": "code",
     "collapsed": false,
     "input": [
      "import matplotlib\n",
      "import matplotlib.pyplot as plt\n",
      "%matplotlib inline\n",
      "from skdata.mnist.views import OfficialImageClassification\n",
      "import numpy as np\n",
      "\n",
      "import theano\n",
      "import theano.tensor as T\n",
      "from theano import shared, function\n",
      "rng = np.random.RandomState(42)"
     ],
     "language": "python",
     "metadata": {},
     "outputs": [],
     "prompt_number": 24
    },
    {
     "cell_type": "markdown",
     "metadata": {},
     "source": [
      "# ComputeFest 2015 - Deep Learning Workshop Part 1 - Fully Connected Networks\n",
      "\n",
      "Today we will focus on fully connected networks. We follow the traditional scheme and tackle the traditional task of hand written digit classification. First we use a shallow classifier, simple logistic regression, to get started. Then we add layers to our model to make it more powerful. But, first let's start by loading and looking at the data. "
     ]
    },
    {
     "cell_type": "markdown",
     "metadata": {},
     "source": [
      "## The Task: Handwritten Digit Recognition\n",
      "\n",
      "Classifying handwritten digits is like the 'hello world' for deep learning methods. It is how everyone normally starts to get used to the models and how to best train them. Interstingly though, it is not just for beginners. There are still papers published nowadays that use MNIST to evaluate new methods. There is some debate on whether this is still useful or not, but we won't care about this discussion for now. \n",
      "\n",
      "MNIST consists of 70 000 small image patches, each showing a handwritten digit character in white on a black background. There are 10 different classes (the digits from 0-9). Let's load the data and have a look."
     ]
    },
    {
     "cell_type": "code",
     "collapsed": false,
     "input": [
      "task = OfficialImageClassification()\n",
      "print \"Size of the data matrix\", task.all_images.shape\n",
      "\n",
      "index = 2\n",
      "print \"The digit below should be a \", task.all_labels[index]\n",
      "plt.imshow(task.all_images[index].reshape((28, -1)), cmap=plt.cm.gray, interpolation='nearest')\n",
      "plt.show()"
     ],
     "language": "python",
     "metadata": {},
     "outputs": [
      {
       "output_type": "stream",
       "stream": "stdout",
       "text": [
        "Size of the data matrix (70000, 28, 28, 1)\n",
        "The digit below should be a  4\n"
       ]
      },
      {
       "metadata": {},
       "output_type": "display_data",
       "png": "[encoded data removed]",
       "text": [
        "<matplotlib.figure.Figure at 0x107de9d0>"
       ]
      }
     ],
     "prompt_number": 25
    },
    {
     "cell_type": "markdown",
     "metadata": {},
     "source": [
      "Let's split the data into a training and a test set. The first 60.000 samples are used for training and then we reserve 10.000 samples for evaluation. "
     ]
    },
    {
     "cell_type": "code",
     "collapsed": false,
     "input": [
      "train_size = 20000\n",
      "test_size = 2000\n",
      "\n",
      "xtrain = task.all_images[0:train_size].reshape((train_size,28*28))\n",
      "ytrain = task.all_labels[0:train_size]\n",
      "xtest = task.all_images[train_size:train_size+test_size].reshape((test_size,28*28))\n",
      "ytest = task.all_labels[train_size:train_size+test_size]\n",
      "\n",
      "print xtrain.shape\n",
      "print ytrain.shape\n",
      "print xtest.shape\n",
      "print ytest.shape"
     ],
     "language": "python",
     "metadata": {},
     "outputs": [
      {
       "output_type": "stream",
       "stream": "stdout",
       "text": [
        "(20000, 784)\n",
        "(20000,)\n",
        "(2000, 784)\n",
        "(2000,)\n"
       ]
      }
     ],
     "prompt_number": 26
    },
    {
     "cell_type": "markdown",
     "metadata": {},
     "source": [
      "## Logistic Regression"
     ]
    },
    {
     "cell_type": "code",
     "collapsed": false,
     "input": [
      "# Step 1. Declare Theano variables\n",
      "x = T.imatrix()\n",
      "y = T.ivector()\n",
      "W = shared(value=np.zeros((28*28, 10),\n",
      "                dtype=theano.config.floatX),\n",
      "            name='W',\n",
      "            borrow=True\n",
      "        )\n",
      "b = shared(value=np.zeros((10,),\n",
      "                dtype=theano.config.floatX),\n",
      "            name='b',\n",
      "            borrow=True\n",
      "        )"
     ],
     "language": "python",
     "metadata": {},
     "outputs": [],
     "prompt_number": 27
    },
    {
     "cell_type": "code",
     "collapsed": false,
     "input": [
      "# Step 2. Construct Theano expression graph\n",
      "\n",
      "learning_rate = 0.01\n",
      "\n",
      "p_y_given_x = T.nnet.softmax(T.dot(x, W) + b)\n",
      "cost = -T.mean(T.log(p_y_given_x)[T.arange(y.shape[0]), y])\n",
      "\n",
      "y_pred = T.argmax(p_y_given_x, axis=1)\n",
      "error = T.mean(T.neq(y_pred, y))\n",
      "\n",
      "g_W = T.grad(cost=cost, wrt=W)\n",
      "g_b = T.grad(cost=cost, wrt=b)\n",
      "\n",
      "updates = [(W, W - learning_rate * g_W),\n",
      "           (b, b - learning_rate * g_b)]"
     ],
     "language": "python",
     "metadata": {},
     "outputs": [],
     "prompt_number": 28
    },
    {
     "cell_type": "code",
     "collapsed": false,
     "input": [
      "# Step 3. Compile expressions to functions\n",
      "train = function(inputs=[x, y],\n",
      "                 outputs=[cost, y_pred],\n",
      "                 updates=updates)\n",
      "\n",
      "test = function(inputs=[x, y],\n",
      "                outputs=error)"
     ],
     "language": "python",
     "metadata": {},
     "outputs": [],
     "prompt_number": 29
    },
    {
     "cell_type": "code",
     "collapsed": true,
     "input": [
      "# Step 4. Perform computation\n",
      "train_monitor = []\n",
      "test_monitor = []\n",
      "\n",
      "n_epochs = 100\n",
      "\n",
      "for epoch in range(n_epochs):\n",
      "    loss, pred = train(xtrain, ytrain)\n",
      "    train_monitor.append(test(xtrain, ytrain))\n",
      "    test_monitor.append(test(xtest,ytest))\n",
      "    if epoch%5 == 0:\n",
      "        print \"Iteration: \", epoch\n",
      "        print \"Training error, test error: \", train_monitor[-1], test_monitor[-1]\n",
      "    "
     ],
     "language": "python",
     "metadata": {},
     "outputs": [
      {
       "output_type": "stream",
       "stream": "stdout",
       "text": [
        "Iteration:  0\n",
        "Training error, test error:  0.33395 0.3335\n",
        "Iteration: "
       ]
      },
      {
       "output_type": "stream",
       "stream": "stdout",
       "text": [
        " 5\n",
        "Training error, test error:  0.63475 0.637\n",
        "Iteration: "
       ]
      },
      {
       "output_type": "stream",
       "stream": "stdout",
       "text": [
        " 10\n",
        "Training error, test error:  0.32695 0.321\n",
        "Iteration: "
       ]
      },
      {
       "output_type": "stream",
       "stream": "stdout",
       "text": [
        " 15\n",
        "Training error, test error:  0.21915 0.2075\n",
        "Iteration: "
       ]
      },
      {
       "output_type": "stream",
       "stream": "stdout",
       "text": [
        " 20\n",
        "Training error, test error:  0.21685 0.21\n",
        "Iteration: "
       ]
      },
      {
       "output_type": "stream",
       "stream": "stdout",
       "text": [
        " 25\n",
        "Training error, test error:  0.2034 0.2095\n",
        "Iteration: "
       ]
      },
      {
       "output_type": "stream",
       "stream": "stdout",
       "text": [
        " 30\n",
        "Training error, test error:  0.20235 0.2065\n",
        "Iteration: "
       ]
      },
      {
       "output_type": "stream",
       "stream": "stdout",
       "text": [
        " 35\n",
        "Training error, test error:  0.1189 0.1175\n",
        "Iteration: "
       ]
      },
      {
       "output_type": "stream",
       "stream": "stdout",
       "text": [
        " 40\n",
        "Training error, test error:  0.1071 0.102\n",
        "Iteration: "
       ]
      },
      {
       "output_type": "stream",
       "stream": "stdout",
       "text": [
        " 45\n",
        "Training error, test error:  0.1058 0.109\n",
        "Iteration: "
       ]
      },
      {
       "output_type": "stream",
       "stream": "stdout",
       "text": [
        " 50\n",
        "Training error, test error:  0.17555 0.1645\n",
        "Iteration: "
       ]
      },
      {
       "output_type": "stream",
       "stream": "stdout",
       "text": [
        " 55\n",
        "Training error, test error:  0.2152 0.2025\n",
        "Iteration: "
       ]
      },
      {
       "output_type": "stream",
       "stream": "stdout",
       "text": [
        " 60\n",
        "Training error, test error:  0.2525 0.248\n",
        "Iteration: "
       ]
      },
      {
       "output_type": "stream",
       "stream": "stdout",
       "text": [
        " 65\n",
        "Training error, test error:  0.12175 0.1265\n",
        "Iteration: "
       ]
      },
      {
       "output_type": "stream",
       "stream": "stdout",
       "text": [
        " 70\n",
        "Training error, test error:  0.0949 0.098\n",
        "Iteration: "
       ]
      },
      {
       "output_type": "stream",
       "stream": "stdout",
       "text": [
        " 75\n",
        "Training error, test error:  0.09195 0.0935\n",
        "Iteration: "
       ]
      },
      {
       "output_type": "stream",
       "stream": "stdout",
       "text": [
        " 80\n",
        "Training error, test error:  0.09055 0.0915\n",
        "Iteration: "
       ]
      },
      {
       "output_type": "stream",
       "stream": "stdout",
       "text": [
        " 85\n",
        "Training error, test error:  0.12155 0.1295\n",
        "Iteration: "
       ]
      },
      {
       "output_type": "stream",
       "stream": "stdout",
       "text": [
        " 90\n",
        "Training error, test error:  0.22195 0.2275\n",
        "Iteration: "
       ]
      },
      {
       "output_type": "stream",
       "stream": "stdout",
       "text": [
        " 95\n",
        "Training error, test error:  0.2887 0.2815\n"
       ]
      }
     ],
     "prompt_number": 30
    },
    {
     "cell_type": "code",
     "collapsed": false,
     "input": [
      "plt.plot(train_monitor, c='r')\n",
      "plt.plot(test_monitor, c='b')\n",
      "plt.show()\n"
     ],
     "language": "python",
     "metadata": {},
     "outputs": [
      {
       "metadata": {},
       "output_type": "display_data",
       "png": "[encoded data removed]",
       "text": [
        "<matplotlib.figure.Figure at 0xebb70b0>"
       ]
      }
     ],
     "prompt_number": 31
    },
    {
     "cell_type": "markdown",
     "metadata": {},
     "source": [
      "### Introducing batch size"
     ]
    },
    {
     "cell_type": "code",
     "collapsed": false,
     "input": [
      "# reset W and b to zero\n",
      "\n",
      "W.set_value(np.zeros((28*28, 10),\n",
      "                dtype=theano.config.floatX)) \n",
      "\n",
      "b.set_value(np.zeros((10,),\n",
      "                dtype=theano.config.floatX))"
     ],
     "language": "python",
     "metadata": {},
     "outputs": [],
     "prompt_number": 32
    },
    {
     "cell_type": "code",
     "collapsed": true,
     "input": [
      "xtrain = task.all_images[0:train_size].reshape((train_size,28*28))\n",
      "ytrain = task.all_labels[0:train_size]\n",
      "\n",
      "batch_size = 10\n",
      "index = T.iscalar()\n",
      "n_train_batches = xtrain.shape[0] / batch_size\n",
      "xtrain = shared(xtrain.astype('int32'))\n",
      "ytrain = shared(ytrain)\n",
      "\n",
      "    \n",
      "train_batch = function(inputs=[index],\n",
      "                       outputs=[cost, y_pred],\n",
      "                       updates=updates,\n",
      "                       givens={\n",
      "            x: xtrain[index * batch_size: (index + 1) * batch_size],\n",
      "            y: ytrain[index * batch_size: (index + 1) * batch_size]\n",
      "        }\n",
      "    )"
     ],
     "language": "python",
     "metadata": {},
     "outputs": [],
     "prompt_number": 33
    },
    {
     "cell_type": "code",
     "collapsed": true,
     "input": [
      "# Step 4. Perform computation\n",
      "train_monitor_batch = []\n",
      "test_monitor_batch = []\n",
      "for epoch in range(n_epochs):\n",
      "    for batch_index in range(n_train_batches):\n",
      "        loss, pred = train_batch(batch_index)\n",
      "    train_monitor_batch.append(test(xtrain.get_value(), ytrain.get_value()))\n",
      "    test_monitor_batch.append(test(xtest,ytest))\n",
      "    if epoch%5 == 0:\n",
      "        print \"Iteration: \", epoch\n",
      "        print \"Training error, test error: \", train_monitor_batch[-1], test_monitor_batch[-1]\n",
      "    "
     ],
     "language": "python",
     "metadata": {},
     "outputs": [
      {
       "output_type": "stream",
       "stream": "stdout",
       "text": [
        "Iteration:  0\n",
        "Training error, test error:  0.1185 0.126\n",
        "Iteration: "
       ]
      },
      {
       "output_type": "stream",
       "stream": "stdout",
       "text": [
        " 5\n",
        "Training error, test error:  0.1185 0.126\n",
        "Iteration: "
       ]
      },
      {
       "output_type": "stream",
       "stream": "stdout",
       "text": [
        " 10\n",
        "Training error, test error:  0.1185 0.126\n",
        "Iteration: "
       ]
      },
      {
       "output_type": "stream",
       "stream": "stdout",
       "text": [
        " 15\n",
        "Training error, test error:  0.1185 0.126\n",
        "Iteration: "
       ]
      },
      {
       "output_type": "stream",
       "stream": "stdout",
       "text": [
        " 20\n",
        "Training error, test error:  0.1185 0.126\n",
        "Iteration: "
       ]
      },
      {
       "output_type": "stream",
       "stream": "stdout",
       "text": [
        " 25\n",
        "Training error, test error:  0.1185 0.126\n",
        "Iteration: "
       ]
      },
      {
       "output_type": "stream",
       "stream": "stdout",
       "text": [
        " 30\n",
        "Training error, test error:  0.1185 0.126\n",
        "Iteration: "
       ]
      },
      {
       "output_type": "stream",
       "stream": "stdout",
       "text": [
        " 35\n",
        "Training error, test error:  0.1185 0.126\n",
        "Iteration: "
       ]
      },
      {
       "output_type": "stream",
       "stream": "stdout",
       "text": [
        " 40\n",
        "Training error, test error:  0.1185 0.126\n",
        "Iteration: "
       ]
      },
      {
       "output_type": "stream",
       "stream": "stdout",
       "text": [
        " 45\n",
        "Training error, test error:  0.1185 0.126\n",
        "Iteration: "
       ]
      },
      {
       "output_type": "stream",
       "stream": "stdout",
       "text": [
        " 50\n",
        "Training error, test error:  0.1185 0.126\n",
        "Iteration: "
       ]
      },
      {
       "output_type": "stream",
       "stream": "stdout",
       "text": [
        " 55\n",
        "Training error, test error:  0.1185 0.126\n",
        "Iteration: "
       ]
      },
      {
       "output_type": "stream",
       "stream": "stdout",
       "text": [
        " 60\n",
        "Training error, test error:  0.1185 0.126\n",
        "Iteration: "
       ]
      },
      {
       "output_type": "stream",
       "stream": "stdout",
       "text": [
        " 65\n",
        "Training error, test error:  0.1185 0.126\n",
        "Iteration: "
       ]
      },
      {
       "output_type": "stream",
       "stream": "stdout",
       "text": [
        " 70\n",
        "Training error, test error:  0.1185 0.126\n",
        "Iteration: "
       ]
      },
      {
       "output_type": "stream",
       "stream": "stdout",
       "text": [
        " 75\n",
        "Training error, test error:  0.1185 0.126\n",
        "Iteration: "
       ]
      },
      {
       "output_type": "stream",
       "stream": "stdout",
       "text": [
        " 80\n",
        "Training error, test error:  0.1185 0.126\n",
        "Iteration: "
       ]
      },
      {
       "output_type": "stream",
       "stream": "stdout",
       "text": [
        " 85\n",
        "Training error, test error:  0.1185 0.126\n",
        "Iteration: "
       ]
      },
      {
       "output_type": "stream",
       "stream": "stdout",
       "text": [
        " 90\n",
        "Training error, test error:  0.1185 0.126\n",
        "Iteration: "
       ]
      },
      {
       "output_type": "stream",
       "stream": "stdout",
       "text": [
        " 95\n",
        "Training error, test error:  0.1185 0.126\n"
       ]
      }
     ],
     "prompt_number": 34
    },
    {
     "cell_type": "code",
     "collapsed": false,
     "input": [
      "plt.plot(train_monitor_batch, c='r')\n",
      "plt.plot(test_monitor_batch, c='b')\n",
      "\n",
      "plt.plot(train_monitor, c='m')\n",
      "plt.plot(test_monitor, c='c')\n",
      "\n",
      "plt.show()"
     ],
     "language": "python",
     "metadata": {},
     "outputs": [
      {
       "metadata": {},
       "output_type": "display_data",
       "png": "[encoded data removed]",
       "text": [
        "<matplotlib.figure.Figure at 0x106d4630>"
       ]
      }
     ],
     "prompt_number": 36
    },
    {
     "cell_type": "markdown",
     "metadata": {},
     "source": [
      "## Making the model deep"
     ]
    },
    {
     "cell_type": "code",
     "collapsed": false,
     "input": [],
     "language": "python",
     "metadata": {},
     "outputs": [],
     "prompt_number": 35
    }
   ],
   "metadata": {}
  }
 ]
}