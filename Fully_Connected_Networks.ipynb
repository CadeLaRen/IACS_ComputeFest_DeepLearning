{
 "metadata": {
  "name": "",
  "signature": "sha256:d427e0f70a8aa67f2407b59bf7d4b189d07b56fb5566e25bd78f775d3348673f"
 },
 "nbformat": 3,
 "nbformat_minor": 0,
 "worksheets": [
  {
   "cells": [
    {
     "cell_type": "code",
     "collapsed": false,
     "input": [
      "import matplotlib\n",
      "import matplotlib.pyplot as plt\n",
      "matplotlib.pyplot.gray()\n",
      "\n",
      "%matplotlib inline\n",
      "\n",
      "\n",
      "from skdata.mnist.views import OfficialImageClassification\n",
      "import numpy as np\n",
      "\n",
      "import theano\n",
      "import theano.tensor as T\n",
      "from theano import shared, function\n",
      "rng = np.random.RandomState(42)\n",
      "\n",
      "import sys\n",
      "\n",
      "theano.config.floatX = 'float32'"
     ],
     "language": "python",
     "metadata": {},
     "outputs": [],
     "prompt_number": 1
    },
    {
     "cell_type": "markdown",
     "metadata": {},
     "source": [
      "# ComputeFest 2015 - Deep Learning Workshop Part 1 - Fully Connected Networks\n",
      "\n",
      "Today we will focus on fully connected networks. We follow the traditional scheme and tackle the traditional task of hand written digit classification. First we use a shallow classifier, simple logistic regression, to get started. Then we add layers to our model to make it more powerful. But, first let's start by loading and looking at the data. \n",
      "We will make heavy use of the resources in the Theano deep learning tutorial. Please clone the repository so you have all the resources at hand. \n",
      "\n",
      "`git clone git://github.com/lisa-lab/DeepLearningTutorials.git`\n",
      "\n",
      "Now we have to add this directory to the PythonPath. \n",
      "\n",
      "\n",
      "\n"
     ]
    },
    {
     "cell_type": "code",
     "collapsed": false,
     "input": [
      "sys.path.insert(1,'../ComputeFest2015_Resources/DeepLearningTutorials/code')\n",
      "sys.path"
     ],
     "language": "python",
     "metadata": {},
     "outputs": [
      {
       "metadata": {},
       "output_type": "pyout",
       "prompt_number": 2,
       "text": [
        "['',\n",
        " '../ComputeFest2015_Resources/DeepLearningTutorials/code',\n",
        " 'C:\\\\Python27\\\\lib\\\\site-packages\\\\pyautodiff-0.0.1-py2.7.egg',\n",
        " 'C:\\\\Python27\\\\lib\\\\site-packages\\\\autodiff-0.4-py2.7.egg',\n",
        " 'C:\\\\Python27\\\\lib\\\\site-packages\\\\meta-_-py2.7.egg',\n",
        " \"C:\\\\Users\\\\vkaynig\\\\Documents\\\\ComputeFest2015_DeepLearning\\\\'.'\",\n",
        " 'C:\\\\Windows\\\\SYSTEM32\\\\python27.zip',\n",
        " 'C:\\\\Python27\\\\DLLs',\n",
        " 'C:\\\\Python27\\\\lib',\n",
        " 'C:\\\\Python27\\\\lib\\\\plat-win',\n",
        " 'C:\\\\Python27\\\\lib\\\\lib-tk',\n",
        " 'C:\\\\Python27',\n",
        " 'C:\\\\Python27\\\\lib\\\\site-packages',\n",
        " 'C:\\\\Python27\\\\lib\\\\site-packages\\\\IPython\\\\extensions']"
       ]
      }
     ],
     "prompt_number": 2
    },
    {
     "cell_type": "markdown",
     "metadata": {},
     "source": [
      "## The Task: Handwritten Digit Recognition\n",
      "\n",
      "Classifying handwritten digits is like the 'hello world' for deep learning methods. It is how everyone normally starts to get used to the models and how to best train them. Interstingly though, it is not just for beginners. There are still papers published nowadays that use MNIST to evaluate new methods. There is some debate on whether this is still useful or not, but we won't care about this discussion for now. \n",
      "\n",
      "MNIST consists of 70 000 small image patches, each showing a handwritten digit character in white on a black background. There are 10 different classes (the digits from 0-9). Let's load the data and have a look."
     ]
    },
    {
     "cell_type": "code",
     "collapsed": false,
     "input": [
      "from logistic_sgd import load_data\n",
      "dataset='mnist.pkl.gz'\n",
      "\n",
      "## If not already cached this function actually downloads the data\n",
      "datasets = load_data(dataset)\n",
      "\n",
      "train_set_x, train_set_y = datasets[0]\n",
      "valid_set_x, valid_set_y = datasets[1]\n",
      "test_set_x, test_set_y = datasets[2]\n"
     ],
     "language": "python",
     "metadata": {},
     "outputs": [
      {
       "output_type": "stream",
       "stream": "stdout",
       "text": [
        "... loading data\n"
       ]
      }
     ],
     "prompt_number": 3
    },
    {
     "cell_type": "code",
     "collapsed": false,
     "input": [
      "print train_set_x\n"
     ],
     "language": "python",
     "metadata": {},
     "outputs": [
      {
       "output_type": "stream",
       "stream": "stdout",
       "text": [
        "<TensorType(float32, matrix)>\n"
       ]
      }
     ],
     "prompt_number": 4
    },
    {
     "cell_type": "markdown",
     "metadata": {},
     "source": [
      "Now that looks a bit odd, why can't we see the values of our data matrix? The `load_data` function provided by the deep learning tutorial downloads the data and loads it into a shared variable. Shared variables are an important and genious concept in Theano. What it means is that the data can be shared between the CPU and the GPU without you having to write a single line of code! You basically do not have to care at all where your data lives, unless you are running out of memory, which is another story we can talk about later. For now let us only worry about how we can access the actual values of the data matrix:"
     ]
    },
    {
     "cell_type": "code",
     "collapsed": false,
     "input": [
      "print train_set_x.get_value()"
     ],
     "language": "python",
     "metadata": {},
     "outputs": [
      {
       "output_type": "stream",
       "stream": "stdout",
       "text": [
        "[[ 0.  0.  0. ...,  0.  0.  0.]\n",
        " [ 0.  0.  0. ...,  0.  0.  0.]\n",
        " [ 0.  0.  0. ...,  0.  0.  0.]\n",
        " ..., \n",
        " [ 0.  0.  0. ...,  0.  0.  0.]\n",
        " [ 0.  0.  0. ...,  0.  0.  0.]\n",
        " [ 0.  0.  0. ...,  0.  0.  0.]]\n"
       ]
      }
     ],
     "prompt_number": 5
    },
    {
     "cell_type": "code",
     "collapsed": false,
     "input": [
      "print \"Size of the training data matrix: \", train_set_x.get_value().shape"
     ],
     "language": "python",
     "metadata": {},
     "outputs": [
      {
       "output_type": "stream",
       "stream": "stdout",
       "text": [
        "Size of the training data matrix:  "
       ]
      },
      {
       "output_type": "stream",
       "stream": "stdout",
       "text": [
        "(50000, 784)\n"
       ]
      }
     ],
     "prompt_number": 6
    },
    {
     "cell_type": "markdown",
     "metadata": {},
     "source": [
      "The data is stored with one training sample per row. The original image patches are $28 \\times 28$ pixels, hence we have $28 \\cdot 28 = 784$ feature columns in our data matrix. We can reshape each row of our data matrix back to the original $28 \\times 28$ image patch to visualize what the data looks like."
     ]
    },
    {
     "cell_type": "code",
     "collapsed": false,
     "input": [
      "from utils import tile_raster_images\n",
      "\n",
      "samples = tile_raster_images(train_set_x.get_value(), img_shape=(28,28), tile_shape=(3,10), tile_spacing=(0, 0),\n",
      "                       scale_rows_to_unit_interval=True,\n",
      "                       output_pixel_vals=True)\n",
      "\n",
      "plt.imshow(samples)\n",
      "plt.show()"
     ],
     "language": "python",
     "metadata": {},
     "outputs": [
      {
       "metadata": {},
       "output_type": "display_data",
       "png": "[encoded data removed]",
       "text": [
        "<matplotlib.figure.Figure at 0xcbc5750>"
       ]
      }
     ],
     "prompt_number": 7
    },
    {
     "cell_type": "markdown",
     "metadata": {},
     "source": [
      "So each image patch contains a hand written digit in white on a black background. The strokes vary in thickness and there is quite some variability in the hand writing. "
     ]
    },
    {
     "cell_type": "markdown",
     "metadata": {},
     "source": [
      "The labels of the different image patches are stored in our variable `train_set_y`. When we print this variable it looks different than for our training data, and there is no `get_value()` function that we can call to access the labels."
     ]
    },
    {
     "cell_type": "code",
     "collapsed": false,
     "input": [
      "print train_set_y"
     ],
     "language": "python",
     "metadata": {},
     "outputs": [
      {
       "output_type": "stream",
       "stream": "stdout",
       "text": [
        "Elemwise{Cast{int32}}.0\n"
       ]
      }
     ],
     "prompt_number": 8
    },
    {
     "cell_type": "markdown",
     "metadata": {},
     "source": [
      "The reason is that the `load_data` function casted our labels to integers. Why would it do that? The GPU can only store float variables, so all shared variables are stored as float. Our labels are integers though and later on we want to use them as indices, which requires them to be integers. As a workaround `load_data` first stores the labels as floats and then casts them to integer. As you can see from the `print` statement, Theano does not execute the casting right away. Instead it keeps a record of all the computations that are to be performed on the shared variable in a computational graph. This is another genious concept of Theano, because when these graphs get more complicated, it optimizes the whole graph for computational efficiency and numerical stability. If you want to know more about the computational graph structures and their optimization in Theano you can look [here](http://deeplearning.net/software/theano/tutorial/symbolic_graphs.html).\n",
      "\n",
      "To access the labels we need to tell Theano to exectue all computations from the corresponding graph. We do this by calling `eval()`:"
     ]
    },
    {
     "cell_type": "code",
     "collapsed": false,
     "input": [
      "print train_set_y.eval()[:10]"
     ],
     "language": "python",
     "metadata": {},
     "outputs": [
      {
       "output_type": "stream",
       "stream": "stdout",
       "text": [
        "[5 0 4 1 9 2 1 3 1 4]\n"
       ]
      }
     ],
     "prompt_number": 9
    },
    {
     "cell_type": "markdown",
     "metadata": {},
     "source": [
      "## Exercise: Data Normalization\n",
      "\n",
      "Deep learning algorithms typically work best when you normalize your data. A standard procedure is to normalize the mean and the standard deviation of each feature column.\n",
      "Use the training data to estimate the mean normalization, and then use these values to normralize the training, the validation and the test data. Then use the `tile_raster_images` fuction as above to visualize some normalized training patches. "
     ]
    },
    {
     "cell_type": "code",
     "collapsed": false,
     "input": [
      "# estimate the mean and std dev from the training data\n",
      "\n",
      "norm_mean = train_set_x.mean(axis=0)\n",
      "train_set_x = train_set_x - norm_mean\n",
      "norm_std = train_set_x.std(axis=0)\n",
      "norm_std = norm_std.clip(0.00001, norm_std.max())\n",
      "train_set_x = train_set_x / norm_std \n",
      "\n",
      "test_set_x = test_set_x - norm_mean\n",
      "test_set_x = test_set_x / norm_std \n",
      "valid_set_x = valid_set_x - norm_mean\n",
      "valid_set_x = valid_set_x / norm_std "
     ],
     "language": "python",
     "metadata": {},
     "outputs": [],
     "prompt_number": 11
    },
    {
     "cell_type": "code",
     "collapsed": false,
     "input": [
      "samples = tile_raster_images(train_set_x.eval(), img_shape=(28,28), tile_shape=(3,10), tile_spacing=(0, 0),\n",
      "                       scale_rows_to_unit_interval=True,\n",
      "                       output_pixel_vals=True)\n",
      "\n",
      "plt.imshow(samples)\n",
      "plt.show()"
     ],
     "language": "python",
     "metadata": {},
     "outputs": [
      {
       "metadata": {},
       "output_type": "display_data",
       "png": "[encoded data removed]",
       "text": [
        "<matplotlib.figure.Figure at 0xcb42310>"
       ]
      }
     ],
     "prompt_number": 12
    },
    {
     "cell_type": "markdown",
     "metadata": {},
     "source": [
      "## Logistic Regression\n",
      "\n",
      "We have seen the basics of logistic regression in the theory part of the workshop. Now it is time to actually apply the method to some data using Theano. We start with this `shallow` classifier and then will add more layers later on. \n",
      "\n",
      "From the slides we remember that the logistic regression model has the weight parameters W and the biases b. We need to intialize these as Theano variables. In addition we create placeholders for our data by declaring a data matrix `x`, and a label vector `y`. Note that we do not assign our actual training data to the variables `x` and `y`. Theano can create the whole computational graph for `x` and `y` without knowing the actual values. "
     ]
    },
    {
     "cell_type": "code",
     "collapsed": false,
     "input": [
      "# Step 1. Declare Theano variables\n",
      "x = T.fmatrix()\n",
      "y = T.ivector()\n",
      "W = shared(value=np.zeros((28*28, 10), # size of our image patches, and number of output units (classes)\n",
      "                dtype=theano.config.floatX),\n",
      "            name='W',\n",
      "            borrow=True\n",
      "        )\n",
      "b = shared(value=np.zeros((10,), # number of output units (classes)\n",
      "                dtype=theano.config.floatX),\n",
      "            name='b',\n",
      "            borrow=True\n",
      "        )"
     ],
     "language": "python",
     "metadata": {},
     "outputs": [],
     "prompt_number": 16
    },
    {
     "cell_type": "markdown",
     "metadata": {},
     "source": [
      "Now we create all necessary functions for the computation. We need the likelihood to make predictions, the negative log likelihood as our cost function to optimize, the actual conversion of the class probabilities to class labels, and the classification error. "
     ]
    },
    {
     "cell_type": "code",
     "collapsed": false,
     "input": [
      "# Step 2. Construct Theano expression graph\n",
      "\n",
      "p_y_given_x = T.nnet.softmax(T.dot(x, W) + b)\n",
      "cost = -T.mean(T.log(p_y_given_x)[T.arange(y.shape[0]), y])\n",
      "\n",
      "y_pred = T.argmax(p_y_given_x, axis=1)\n",
      "error = T.mean(T.neq(y_pred, y))\n"
     ],
     "language": "python",
     "metadata": {},
     "outputs": [],
     "prompt_number": 18
    },
    {
     "cell_type": "markdown",
     "metadata": {},
     "source": [
      "Now comes the really cool part. We do not have to bother to compute the gradient ourselves! Theano is capable of computing the gradient for us. We just call the `T.grad()` function on our cost function and specify with respect to which parameter the derivative should be computed. Then we can use the computed gradient to perform an iteration of gradient decent. We just update the parameters by taking a small step into the right direction on the cost function surface. The size of the step is specified by the learning rate. If you are interested in the best performance for your network, the learning rate is a very important parameter to tune. Typically smaller values work better, but take longer. We will talk more about this in the tips and tricks section of the workshop. "
     ]
    },
    {
     "cell_type": "code",
     "collapsed": false,
     "input": [
      "g_W = T.grad(cost=cost, wrt=W)\n",
      "g_b = T.grad(cost=cost, wrt=b)\n",
      "\n",
      "learning_rate = 0.01\n",
      "\n",
      "updates = [(W, W - learning_rate * g_W),\n",
      "           (b, b - learning_rate * g_b)]"
     ],
     "language": "python",
     "metadata": {},
     "outputs": [],
     "prompt_number": 19
    },
    {
     "cell_type": "markdown",
     "metadata": {},
     "source": []
    },
    {
     "cell_type": "code",
     "collapsed": false,
     "input": [
      "# Step 3. Compile expressions to functions\n",
      "train = function(inputs=[x, y],\n",
      "                 outputs=[cost, y_pred],\n",
      "                 updates=updates)\n",
      "\n",
      "test = function(inputs=[x, y],\n",
      "                outputs=error)"
     ],
     "language": "python",
     "metadata": {},
     "outputs": [],
     "prompt_number": 29
    },
    {
     "cell_type": "code",
     "collapsed": true,
     "input": [
      "# Step 4. Perform computation\n",
      "train_monitor = []\n",
      "test_monitor = []\n",
      "\n",
      "n_epochs = 100\n",
      "\n",
      "for epoch in range(n_epochs):\n",
      "    loss, pred = train(xtrain, ytrain)\n",
      "    train_monitor.append(test(xtrain, ytrain))\n",
      "    test_monitor.append(test(xtest,ytest))\n",
      "    if epoch%5 == 0:\n",
      "        print \"Iteration: \", epoch\n",
      "        print \"Training error, test error: \", train_monitor[-1], test_monitor[-1]\n",
      "    "
     ],
     "language": "python",
     "metadata": {},
     "outputs": [
      {
       "output_type": "stream",
       "stream": "stdout",
       "text": [
        "Iteration:  0\n",
        "Training error, test error:  0.33395 0.3335\n",
        "Iteration: "
       ]
      },
      {
       "output_type": "stream",
       "stream": "stdout",
       "text": [
        " 5\n",
        "Training error, test error:  0.63475 0.637\n",
        "Iteration: "
       ]
      },
      {
       "output_type": "stream",
       "stream": "stdout",
       "text": [
        " 10\n",
        "Training error, test error:  0.32695 0.321\n",
        "Iteration: "
       ]
      },
      {
       "output_type": "stream",
       "stream": "stdout",
       "text": [
        " 15\n",
        "Training error, test error:  0.21915 0.2075\n",
        "Iteration: "
       ]
      },
      {
       "output_type": "stream",
       "stream": "stdout",
       "text": [
        " 20\n",
        "Training error, test error:  0.21685 0.21\n",
        "Iteration: "
       ]
      },
      {
       "output_type": "stream",
       "stream": "stdout",
       "text": [
        " 25\n",
        "Training error, test error:  0.2034 0.2095\n",
        "Iteration: "
       ]
      },
      {
       "output_type": "stream",
       "stream": "stdout",
       "text": [
        " 30\n",
        "Training error, test error:  0.20235 0.2065\n",
        "Iteration: "
       ]
      },
      {
       "output_type": "stream",
       "stream": "stdout",
       "text": [
        " 35\n",
        "Training error, test error:  0.1189 0.1175\n",
        "Iteration: "
       ]
      },
      {
       "output_type": "stream",
       "stream": "stdout",
       "text": [
        " 40\n",
        "Training error, test error:  0.1071 0.102\n",
        "Iteration: "
       ]
      },
      {
       "output_type": "stream",
       "stream": "stdout",
       "text": [
        " 45\n",
        "Training error, test error:  0.1058 0.109\n",
        "Iteration: "
       ]
      },
      {
       "output_type": "stream",
       "stream": "stdout",
       "text": [
        " 50\n",
        "Training error, test error:  0.17555 0.1645\n",
        "Iteration: "
       ]
      },
      {
       "output_type": "stream",
       "stream": "stdout",
       "text": [
        " 55\n",
        "Training error, test error:  0.2152 0.2025\n",
        "Iteration: "
       ]
      },
      {
       "output_type": "stream",
       "stream": "stdout",
       "text": [
        " 60\n",
        "Training error, test error:  0.2525 0.248\n",
        "Iteration: "
       ]
      },
      {
       "output_type": "stream",
       "stream": "stdout",
       "text": [
        " 65\n",
        "Training error, test error:  0.12175 0.1265\n",
        "Iteration: "
       ]
      },
      {
       "output_type": "stream",
       "stream": "stdout",
       "text": [
        " 70\n",
        "Training error, test error:  0.0949 0.098\n",
        "Iteration: "
       ]
      },
      {
       "output_type": "stream",
       "stream": "stdout",
       "text": [
        " 75\n",
        "Training error, test error:  0.09195 0.0935\n",
        "Iteration: "
       ]
      },
      {
       "output_type": "stream",
       "stream": "stdout",
       "text": [
        " 80\n",
        "Training error, test error:  0.09055 0.0915\n",
        "Iteration: "
       ]
      },
      {
       "output_type": "stream",
       "stream": "stdout",
       "text": [
        " 85\n",
        "Training error, test error:  0.12155 0.1295\n",
        "Iteration: "
       ]
      },
      {
       "output_type": "stream",
       "stream": "stdout",
       "text": [
        " 90\n",
        "Training error, test error:  0.22195 0.2275\n",
        "Iteration: "
       ]
      },
      {
       "output_type": "stream",
       "stream": "stdout",
       "text": [
        " 95\n",
        "Training error, test error:  0.2887 0.2815\n"
       ]
      }
     ],
     "prompt_number": 30
    },
    {
     "cell_type": "code",
     "collapsed": false,
     "input": [
      "plt.plot(train_monitor, c='r')\n",
      "plt.plot(test_monitor, c='b')\n",
      "plt.show()\n"
     ],
     "language": "python",
     "metadata": {},
     "outputs": [
      {
       "metadata": {},
       "output_type": "display_data",
       "png": "[encoded data removed]",
       "text": [
        "<matplotlib.figure.Figure at 0xebb70b0>"
       ]
      }
     ],
     "prompt_number": 31
    },
    {
     "cell_type": "markdown",
     "metadata": {},
     "source": [
      "### Introducing batch size"
     ]
    },
    {
     "cell_type": "code",
     "collapsed": false,
     "input": [
      "# reset W and b to zero\n",
      "\n",
      "W.set_value(np.zeros((28*28, 10),\n",
      "                dtype=theano.config.floatX)) \n",
      "\n",
      "b.set_value(np.zeros((10,),\n",
      "                dtype=theano.config.floatX))"
     ],
     "language": "python",
     "metadata": {},
     "outputs": [],
     "prompt_number": 32
    },
    {
     "cell_type": "code",
     "collapsed": true,
     "input": [
      "xtrain = task.all_images[0:train_size].reshape((train_size,28*28))\n",
      "ytrain = task.all_labels[0:train_size]\n",
      "\n",
      "batch_size = 10\n",
      "index = T.iscalar()\n",
      "n_train_batches = xtrain.shape[0] / batch_size\n",
      "xtrain = shared(xtrain.astype('int32'))\n",
      "ytrain = shared(ytrain)\n",
      "\n",
      "    \n",
      "train_batch = function(inputs=[index],\n",
      "                       outputs=[cost, y_pred],\n",
      "                       updates=updates,\n",
      "                       givens={\n",
      "            x: xtrain[index * batch_size: (index + 1) * batch_size],\n",
      "            y: ytrain[index * batch_size: (index + 1) * batch_size]\n",
      "        }\n",
      "    )"
     ],
     "language": "python",
     "metadata": {},
     "outputs": [],
     "prompt_number": 33
    },
    {
     "cell_type": "code",
     "collapsed": true,
     "input": [
      "# Step 4. Perform computation\n",
      "train_monitor_batch = []\n",
      "test_monitor_batch = []\n",
      "for epoch in range(n_epochs):\n",
      "    for batch_index in range(n_train_batches):\n",
      "        loss, pred = train_batch(batch_index)\n",
      "    train_monitor_batch.append(test(xtrain.get_value(), ytrain.get_value()))\n",
      "    test_monitor_batch.append(test(xtest,ytest))\n",
      "    if epoch%5 == 0:\n",
      "        print \"Iteration: \", epoch\n",
      "        print \"Training error, test error: \", train_monitor_batch[-1], test_monitor_batch[-1]\n",
      "    "
     ],
     "language": "python",
     "metadata": {},
     "outputs": [
      {
       "output_type": "stream",
       "stream": "stdout",
       "text": [
        "Iteration:  0\n",
        "Training error, test error:  0.1185 0.126\n",
        "Iteration: "
       ]
      },
      {
       "output_type": "stream",
       "stream": "stdout",
       "text": [
        " 5\n",
        "Training error, test error:  0.1185 0.126\n",
        "Iteration: "
       ]
      },
      {
       "output_type": "stream",
       "stream": "stdout",
       "text": [
        " 10\n",
        "Training error, test error:  0.1185 0.126\n",
        "Iteration: "
       ]
      },
      {
       "output_type": "stream",
       "stream": "stdout",
       "text": [
        " 15\n",
        "Training error, test error:  0.1185 0.126\n",
        "Iteration: "
       ]
      },
      {
       "output_type": "stream",
       "stream": "stdout",
       "text": [
        " 20\n",
        "Training error, test error:  0.1185 0.126\n",
        "Iteration: "
       ]
      },
      {
       "output_type": "stream",
       "stream": "stdout",
       "text": [
        " 25\n",
        "Training error, test error:  0.1185 0.126\n",
        "Iteration: "
       ]
      },
      {
       "output_type": "stream",
       "stream": "stdout",
       "text": [
        " 30\n",
        "Training error, test error:  0.1185 0.126\n",
        "Iteration: "
       ]
      },
      {
       "output_type": "stream",
       "stream": "stdout",
       "text": [
        " 35\n",
        "Training error, test error:  0.1185 0.126\n",
        "Iteration: "
       ]
      },
      {
       "output_type": "stream",
       "stream": "stdout",
       "text": [
        " 40\n",
        "Training error, test error:  0.1185 0.126\n",
        "Iteration: "
       ]
      },
      {
       "output_type": "stream",
       "stream": "stdout",
       "text": [
        " 45\n",
        "Training error, test error:  0.1185 0.126\n",
        "Iteration: "
       ]
      },
      {
       "output_type": "stream",
       "stream": "stdout",
       "text": [
        " 50\n",
        "Training error, test error:  0.1185 0.126\n",
        "Iteration: "
       ]
      },
      {
       "output_type": "stream",
       "stream": "stdout",
       "text": [
        " 55\n",
        "Training error, test error:  0.1185 0.126\n",
        "Iteration: "
       ]
      },
      {
       "output_type": "stream",
       "stream": "stdout",
       "text": [
        " 60\n",
        "Training error, test error:  0.1185 0.126\n",
        "Iteration: "
       ]
      },
      {
       "output_type": "stream",
       "stream": "stdout",
       "text": [
        " 65\n",
        "Training error, test error:  0.1185 0.126\n",
        "Iteration: "
       ]
      },
      {
       "output_type": "stream",
       "stream": "stdout",
       "text": [
        " 70\n",
        "Training error, test error:  0.1185 0.126\n",
        "Iteration: "
       ]
      },
      {
       "output_type": "stream",
       "stream": "stdout",
       "text": [
        " 75\n",
        "Training error, test error:  0.1185 0.126\n",
        "Iteration: "
       ]
      },
      {
       "output_type": "stream",
       "stream": "stdout",
       "text": [
        " 80\n",
        "Training error, test error:  0.1185 0.126\n",
        "Iteration: "
       ]
      },
      {
       "output_type": "stream",
       "stream": "stdout",
       "text": [
        " 85\n",
        "Training error, test error:  0.1185 0.126\n",
        "Iteration: "
       ]
      },
      {
       "output_type": "stream",
       "stream": "stdout",
       "text": [
        " 90\n",
        "Training error, test error:  0.1185 0.126\n",
        "Iteration: "
       ]
      },
      {
       "output_type": "stream",
       "stream": "stdout",
       "text": [
        " 95\n",
        "Training error, test error:  0.1185 0.126\n"
       ]
      }
     ],
     "prompt_number": 34
    },
    {
     "cell_type": "code",
     "collapsed": false,
     "input": [
      "plt.plot(train_monitor_batch, c='r')\n",
      "plt.plot(test_monitor_batch, c='b')\n",
      "\n",
      "plt.plot(train_monitor, c='m')\n",
      "plt.plot(test_monitor, c='c')\n",
      "\n",
      "plt.show()"
     ],
     "language": "python",
     "metadata": {},
     "outputs": [
      {
       "metadata": {},
       "output_type": "display_data",
       "png": "[encoded data removed]",
       "text": [
        "<matplotlib.figure.Figure at 0x106d4630>"
       ]
      }
     ],
     "prompt_number": 36
    },
    {
     "cell_type": "markdown",
     "metadata": {},
     "source": [
      "## Making the model deep"
     ]
    },
    {
     "cell_type": "code",
     "collapsed": false,
     "input": [],
     "language": "python",
     "metadata": {},
     "outputs": [],
     "prompt_number": 35
    }
   ],
   "metadata": {}
  }
 ]
}