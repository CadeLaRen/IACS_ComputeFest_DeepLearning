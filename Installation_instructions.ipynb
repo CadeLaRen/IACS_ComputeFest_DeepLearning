{
 "metadata": {
  "name": "",
  "signature": "sha256:695ab30fab025bea83d9ed2a68096a4a74f20aea83b4da7474fd48354ee76300"
 },
 "nbformat": 3,
 "nbformat_minor": 0,
 "worksheets": [
  {
   "cells": [
    {
     "cell_type": "markdown",
     "metadata": {},
     "source": [
      "# Python Setup for the Compute Fest Deep Learning Workshop\n",
      "\n",
      "Hi there! Great that you are joining us for the deep learning workshop at the ComputeFest 2015! We want to make this workshop interactive, so you can get some hands on experience instead of just following a lecture. To make this possible, it is important that you make sure all the neccessary libraries are up and running on your laptop. At the end of this notebook you will find an example script that you should be able to run. \n",
      "\n",
      "We will be using Python 2.7 with Ipython notebooks, as well as Theano and maybe Pylearn2. You should also have a basic understanding of git and how to clone a repository.  \n",
      "This document is meant to provide some pointers on how to install these libraries. Feel free to alter the environment to your preferred setup. \n",
      "\n",
      "From what I heard from collegues, and what is written on the Theano homepage the installation should be pretty straight forward for Mac or Linux users. If you are using Windows, don't despair, I am using it myself and I have a setup up and running, and there are some tips below that hopefully will enable you to make it work. \n",
      "\n",
      "## Basic Python installation\n",
      "* We are using Python 2.7, and I already had enough problems installing (under Windows) so I went for 32 bit. You are welcome to try and get the 64 bit version to work. \n",
      "\n",
      "* If you don't have Python installed yet, you can use a distribution like Enthought Canopy (previously EPD) https://www.enthought.com/products/epd/. Note that this distribution is only free if you are affiliated with a university. Anachonda is another Python distribution that is generally free, but under Windows I had problems getting theano to work with this distribution. \n",
      "\n",
      "* If you are using windows, and you don't have access to Enthought or it is not working for you, there are notes later on to help you install the environment from scratch.\n",
      "\n",
      "* Optional: If you prefer you can create a virtual environment for the workshop: http://docs.python-guide.org/en/latest/dev/virtualenvs/\n",
      "\n",
      "\n",
      "## Installing Ipython\n",
      "For the workshop we will be using Ipython notebooks. You can install the necessary packages with 'pip'. \n",
      "\n",
      "* Follow these instructions: http://ipython.org/ipython-doc/stable/install/install.html\n",
      "\n",
      "* Then you can test if the setup works by executing 'ipython notebook' on the command line. You should have a browser window opening showing options to create a new ipython notebook. \n",
      "\n",
      "* At this point you can also download this IPython notebook and execute it yourself. You will need to do this at the end to see if you can execute the script that tests your setup. \n",
      "\n",
      "## Getting friendly with git\n",
      "The installation of Theano and Pylearn2 involve very basic git commands. If you don't care about the specifics you most probably will be able to finish the installation by just copy and pasting the commands from the Theano and Pylearn2 installation documentation. If you would like to get some more input on what you are doing, here are some useful resources:\n",
      "\n",
      "* First of all, it does not hurt to just google `git tutorial` and have a look at some of the pages.\n",
      "* There also is a nice interactive tutorial here: https://try.github.io/levels/1/challenges/1\n",
      "* And here is a cheat-sheet in case you need a quick reference: https://training.github.com/kit/downloads/github-git-cheat-sheet.pdf\n",
      "\n",
      "## Installing Theano and Pylearn2\n",
      "Theano is a great library for deep learning, even providing transparent execution of your code on the GPU! No cuda knowledge necessary (,but you need a Nvidia GPU). The developers did a great job not only with the library itself, but also with the documentation. For the workshop you should have a working installation of Theano on the CPU, GPU processing is optional and will make computations much faster, but might be not suitable for your laptop configuration. \n",
      "\n",
      "* Dependencies and Basic installation instructions: http://deeplearning.net/software/theano/install.html\n",
      "\n",
      "Pylearn2 builds on top of Theano and provides an extensive framework for experimenting with different networks, including tools for monitoring the training. We will focus mainly on Theano in the workshop, so there is no need to despair in this case you cannot get this part to run. Unfortunately the installation is a bit more complicated, as you need to clone the git respository yourself and install the package:\n",
      "\n",
      "* Pylearn2 installation documentation: http://deeplearning.net/software/pylearn2/#download-and-installation\n",
      "\n",
      "\n",
      "## Installing Python under Windows 8 from scratch\n",
      "\n",
      "* After some hassle trying to get virtual environments to work, I just gave up and did a single global installation (couldn't get global site packages to be visibile in the virtualenv). If you want to try it anyways you can follow this link for some explanations: http://www.tylerbutler.com/2012/05/how-to-install-python-pip-and-virtualenv-on-windows-with-powershell/\n",
      "\n",
      "\n",
      "* Install the 2.7 32-bit version of Python from here: https://www.python.org/downloads/\n",
      "\n",
      "* Install MinGW following this description: http://www.mingw.org/wiki/Getting_Started\n",
      "\n",
      "* Put the path to MingW into your path environment variable. You can access the variable by hitting win+S and searching vor 'environment'. Then choose the path variable for your account and add ';C:\\MinGW\\bin' to the end. \n",
      "\n",
      "* I learned now to take my collegues advise and do not bother with 'pip' anymore to install packages, so I advice that you do the same. Instead use the pre-compiled packages provided by Christoph: http://www.lfd.uci.edu/~gohlke/pythonlibs\n",
      "\n",
      "* Download and install 'numpy-mkl','scipy','theano'\n",
      "\n",
      "* This should work now :-)\n",
      "\n"
     ]
    },
    {
     "cell_type": "markdown",
     "metadata": {},
     "source": [
      "## Checking if everything works\n",
      "\n",
      "If you have installed everything needed for the workshop successfully you should be able to run the script below without any problems. "
     ]
    },
    {
     "cell_type": "code",
     "collapsed": false,
     "input": [
      "from theano import *\n",
      "import theano.tensor as T"
     ],
     "language": "python",
     "metadata": {},
     "outputs": [],
     "prompt_number": 3
    },
    {
     "cell_type": "code",
     "collapsed": false,
     "input": [],
     "language": "python",
     "metadata": {},
     "outputs": []
    }
   ],
   "metadata": {}
  }
 ]
}