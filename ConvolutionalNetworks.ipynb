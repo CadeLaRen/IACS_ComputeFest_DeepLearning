{
 "metadata": {
  "name": "",
  "signature": "sha256:1bcfb45c3cfd55bfb590ba3b8447734eaa50c1fa7d0dbfcde6d39964b7ec87ca"
 },
 "nbformat": 3,
 "nbformat_minor": 0,
 "worksheets": [
  {
   "cells": [
    {
     "cell_type": "code",
     "collapsed": false,
     "input": [
      "import matplotlib\n",
      "import matplotlib.pyplot as plt\n",
      "matplotlib.pyplot.gray()\n",
      "\n",
      "%matplotlib inline\n",
      "\n",
      "import numpy as np\n",
      "import theano\n",
      "import theano.tensor as T\n",
      "from theano import shared, function\n",
      "theano.config.floatX = 'float32'\n",
      "rng = np.random.RandomState(42)\n",
      "\n",
      "import sys\n",
      "import time"
     ],
     "language": "python",
     "metadata": {},
     "outputs": [],
     "prompt_number": 1
    },
    {
     "cell_type": "markdown",
     "metadata": {},
     "source": [
      "# ComputeFest 2015 - Deep Learning Workshop Part 2 - Convolutional Networks\n",
      "\n",
      "Today we will focus on deep convolutional neural networks. We'll use the handwritten digit recognition task, again.  We'll build up a network with a pair of convolutional layers with two fully connected layers above that.\n",
      "\n",
      "The first part of this tutorial is similar (though not identical, we skip normalization) to yesterday's notebook on fully-connected networks.\n",
      "\n",
      "We will make heavy use of the resources in the Theano deep learning tutorial. Please clone the repository so you have all the resources at hand. \n",
      "\n",
      "`git clone git://github.com/lisa-lab/DeepLearningTutorials.git`\n",
      "\n",
      "Now we have to add this directory to the PythonPath. Depending on the location of your git repository you might have to change this path."
     ]
    },
    {
     "cell_type": "code",
     "collapsed": false,
     "input": [
      "sys.path.insert(1,'DeepLearningTutorials/code')\n",
      "sys.path"
     ],
     "language": "python",
     "metadata": {},
     "outputs": [
      {
       "metadata": {},
       "output_type": "pyout",
       "prompt_number": 2,
       "text": [
        "['',\n",
        " 'DeepLearningTutorials/code',\n",
        " '/Users/thouis/VENV/lib/python27.zip',\n",
        " '/Users/thouis/VENV/lib/python2.7',\n",
        " '/Users/thouis/VENV/lib/python2.7/plat-darwin',\n",
        " '/Users/thouis/VENV/lib/python2.7/plat-mac',\n",
        " '/Users/thouis/VENV/lib/python2.7/plat-mac/lib-scriptpackages',\n",
        " '/Users/thouis/VENV/lib/python2.7/lib-tk',\n",
        " '/Users/thouis/VENV/lib/python2.7/lib-old',\n",
        " '/Users/thouis/VENV/lib/python2.7/lib-dynload',\n",
        " '/usr/local/Cellar/python/2.7.9/Frameworks/Python.framework/Versions/2.7/lib/python2.7',\n",
        " '/usr/local/Cellar/python/2.7.9/Frameworks/Python.framework/Versions/2.7/lib/python2.7/plat-darwin',\n",
        " '/usr/local/Cellar/python/2.7.9/Frameworks/Python.framework/Versions/2.7/lib/python2.7/lib-tk',\n",
        " '/usr/local/Cellar/python/2.7.9/Frameworks/Python.framework/Versions/2.7/lib/python2.7/plat-mac',\n",
        " '/usr/local/Cellar/python/2.7.9/Frameworks/Python.framework/Versions/2.7/lib/python2.7/plat-mac/lib-scriptpackages',\n",
        " '/Users/thouis/VENV/lib/python2.7/site-packages',\n",
        " '/Users/thouis/VENV/lib/python2.7/site-packages/IPython/extensions',\n",
        " '/Users/thouis/.ipython']"
       ]
      }
     ],
     "prompt_number": 2
    },
    {
     "cell_type": "markdown",
     "metadata": {},
     "source": [
      "## The Task: Handwritten Digit Recognition \n",
      "Classifying handwritten digits is like the 'hello world' for deep learning methods. It is how everyone normally starts to get used to the models and how to best train them. Interstingly though, it is not just for beginners. There are still papers published nowadays that use MNIST to evaluate new methods. There is some debate on whether this is still useful or not, but we won't care about this discussion for now. \n",
      "\n",
      "MNIST consists of 70 000 small image patches, each showing a handwritten digit character in white on a black background. There are 10 different classes (the digits from 0-9). Let's load the data and have a look."
     ]
    },
    {
     "cell_type": "code",
     "collapsed": false,
     "input": [
      "from logistic_sgd import load_data\n",
      "dataset='mnist.pkl.gz'\n",
      "\n",
      "## If not already cached this function actually downloads the data\n",
      "datasets = load_data(dataset)\n",
      "\n",
      "train_set_x, train_set_y = datasets[0]\n",
      "valid_set_x, valid_set_y = datasets[1]\n",
      "test_set_x, test_set_y = datasets[2]"
     ],
     "language": "python",
     "metadata": {},
     "outputs": [
      {
       "output_type": "stream",
       "stream": "stdout",
       "text": [
        "... loading data\n"
       ]
      }
     ],
     "prompt_number": 3
    },
    {
     "cell_type": "markdown",
     "metadata": {},
     "source": [
      "## Theano Shared Variables"
     ]
    },
    {
     "cell_type": "code",
     "collapsed": false,
     "input": [
      "print train_set_x"
     ],
     "language": "python",
     "metadata": {},
     "outputs": [
      {
       "output_type": "stream",
       "stream": "stdout",
       "text": [
        "<TensorType(float32, matrix)>\n"
       ]
      }
     ],
     "prompt_number": 4
    },
    {
     "cell_type": "markdown",
     "metadata": {},
     "source": [
      "Now that looks a bit odd, why can't we see the values of our data matrix? The `load_data` function provided by the deep learning tutorial downloads the data and loads it into a shared variable. Shared variables are an important and genious concept in Theano. What it means is that the data can be shared between the CPU and the GPU without you having to write a single line of code! You basically do not have to care at all where your data lives, unless you are running out of memory, which is another story we can talk about later. For now let us only worry about how we can access the actual values of the data matrix:"
     ]
    },
    {
     "cell_type": "code",
     "collapsed": false,
     "input": [
      "print train_set_x.get_value()"
     ],
     "language": "python",
     "metadata": {},
     "outputs": [
      {
       "output_type": "stream",
       "stream": "stdout",
       "text": [
        "[[ 0.  0.  0. ...,  0.  0.  0.]\n",
        " [ 0.  0.  0. ...,  0.  0.  0.]\n",
        " [ 0.  0.  0. ...,  0.  0.  0.]\n",
        " ..., \n",
        " [ 0.  0.  0. ...,  0.  0.  0.]\n",
        " [ 0.  0.  0. ...,  0.  0.  0.]\n",
        " [ 0.  0.  0. ...,  0.  0.  0.]]\n"
       ]
      }
     ],
     "prompt_number": 5
    },
    {
     "cell_type": "code",
     "collapsed": false,
     "input": [
      "print \"Size of the training data matrix: \", train_set_x.get_value().shape"
     ],
     "language": "python",
     "metadata": {},
     "outputs": [
      {
       "output_type": "stream",
       "stream": "stdout",
       "text": [
        "Size of the training data matrix:  "
       ]
      },
      {
       "output_type": "stream",
       "stream": "stdout",
       "text": [
        "(50000, 784)\n"
       ]
      }
     ],
     "prompt_number": 6
    },
    {
     "cell_type": "markdown",
     "metadata": {},
     "source": [
      "The data is stored with one training sample per row. The original image patches are $28 \\times 28$ pixels, hence we have $28 \\cdot 28 = 784$ feature columns in our data matrix. We can reshape each row of our data matrix back to the original $28 \\times 28$ image patch to visualize what the data looks like."
     ]
    },
    {
     "cell_type": "code",
     "collapsed": false,
     "input": [
      "from utils import tile_raster_images\n",
      "\n",
      "samples = tile_raster_images(train_set_x.get_value(), img_shape=(28,28), tile_shape=(3,10), tile_spacing=(0, 0),\n",
      "                       scale_rows_to_unit_interval=True,\n",
      "                       output_pixel_vals=True)\n",
      "\n",
      "plt.imshow(samples)\n",
      "plt.show()"
     ],
     "language": "python",
     "metadata": {},
     "outputs": [
      {
       "metadata": {},
       "output_type": "display_data",
       "png": "[encoded data removed]",
       "text": [
        "<matplotlib.figure.Figure at 0x116f81450>"
       ]
      }
     ],
     "prompt_number": 7
    },
    {
     "cell_type": "markdown",
     "metadata": {},
     "source": [
      "So each image patch contains a hand written digit in white on a black background. The strokes vary in thickness and there is quite some variability in the hand writing. "
     ]
    },
    {
     "cell_type": "markdown",
     "metadata": {},
     "source": [
      "The labels of the different image patches are stored in our variable `train_set_y`. When we print this variable it looks different than for our training data, and there is no `get_value()` function that we can call to access the labels."
     ]
    },
    {
     "cell_type": "code",
     "collapsed": false,
     "input": [
      "print train_set_y"
     ],
     "language": "python",
     "metadata": {},
     "outputs": [
      {
       "output_type": "stream",
       "stream": "stdout",
       "text": [
        "Elemwise{Cast{int32}}.0\n"
       ]
      }
     ],
     "prompt_number": 8
    },
    {
     "cell_type": "markdown",
     "metadata": {},
     "source": [
      "The reason is that the `load_data` function casted our labels to integers. Why would it do that? The GPU can only store float variables, so all shared variables are stored as float. Our labels are integers though and later on we want to use them as indices, which requires them to be integers. As a workaround `load_data` first stores the labels as floats and then casts them to integer. As you can see from the `print` statement, Theano does not execute the casting right away. Instead it keeps a record of all the computations that are to be performed on the shared variable in a computational graph. This is another genious concept of Theano, because when these graphs get more complicated, it optimizes the whole graph for computational efficiency and numerical stability. If you want to know more about the computational graph structures and their optimization in Theano you can look [here](http://deeplearning.net/software/theano/tutorial/symbolic_graphs.html).\n",
      "\n",
      "To access the labels we need to tell Theano to exectue all computations from the corresponding graph. We do this by calling `eval()`:"
     ]
    },
    {
     "cell_type": "code",
     "collapsed": false,
     "input": [
      "print train_set_y.eval()[:10]"
     ],
     "language": "python",
     "metadata": {},
     "outputs": [
      {
       "output_type": "stream",
       "stream": "stdout",
       "text": [
        "[5 0 4 1 9 2 1 3 1 4]\n"
       ]
      }
     ],
     "prompt_number": 9
    },
    {
     "cell_type": "markdown",
     "metadata": {},
     "source": [
      "<hr>"
     ]
    },
    {
     "cell_type": "markdown",
     "metadata": {},
     "source": [
      "# Convolutional Network\n",
      "\n",
      "We'll create a convolutional network to classify digits.  We use code from the Deep Network Tutorials to make this a little easier, particularly the Convolutional Layer class **`LeNetConvPoolLayer`**, [defined in convolutional_mlp.py](https://github.com/lisa-lab/DeepLearningTutorials/blob/master/code/convolutional_mlp.py#L39).\n",
      "\n",
      "We'll build up a network using the following layers:\n",
      "* input (1 channel)\n",
      "* 10  1x9x9 filters   &mdash; (first dimension is 1 because the input image is grayscale)\n",
      "* 10  10x5x5 filters  &mdash; (first dimenions is 10 because the previous layer had 10 filters)\n",
      "* a fully connected sigmoidal layer with 20 outputs\n",
      "* a fully connected Logistic Regression layer with 10 outputs\n",
      "\n",
      "We'll train with batches, with a batch size of 500."
     ]
    },
    {
     "cell_type": "markdown",
     "metadata": {},
     "source": [
      "## Setup for the Convolutional Network"
     ]
    },
    {
     "cell_type": "code",
     "collapsed": false,
     "input": [
      "# Setup 1: parameters of the network and training\n",
      "from convolutional_mlp import LeNetConvPoolLayer\n",
      "from mlp import HiddenLayer\n",
      "from logistic_sgd import LogisticRegression\n",
      "\n",
      "# network parameters\n",
      "num_kernels = [10, 10]\n",
      "kernel_sizes = [(9, 9), (5, 5)]\n",
      "sigmoidal_output_size = 20\n",
      "\n",
      "# training parameters\n",
      "learning_rate = 0.1\n",
      "batch_size = 500"
     ],
     "language": "python",
     "metadata": {},
     "outputs": [],
     "prompt_number": 10
    },
    {
     "cell_type": "markdown",
     "metadata": {},
     "source": [
      "For efficiency, we break the data into batches.  Our network will take **`batch_size`** images at a time as input."
     ]
    },
    {
     "cell_type": "code",
     "collapsed": false,
     "input": [
      "# Setup 2: compute batch sizes for train/test/validation\n",
      "\n",
      "# borrow=True gets us the value of the variable without making a copy.\n",
      "n_train_batches = train_set_x.get_value(borrow=True).shape[0]\n",
      "n_test_batches = test_set_x.get_value(borrow=True).shape[0]\n",
      "n_valid_batches = valid_set_x.get_value(borrow=True).shape[0]\n",
      "n_train_batches /= batch_size\n",
      "n_test_batches /= batch_size\n",
      "n_valid_batches /= batch_size"
     ],
     "language": "python",
     "metadata": {},
     "outputs": [],
     "prompt_number": 11
    },
    {
     "cell_type": "code",
     "collapsed": false,
     "input": [
      "# Setup 3.\n",
      "\n",
      "# Declare inputs to network - x and y are placeholders\n",
      "# that will be used in the training/testing/validation functions below.\n",
      "x = T.matrix('x')  # input image data\n",
      "y = T.ivector('y') # input label data"
     ],
     "language": "python",
     "metadata": {},
     "outputs": [],
     "prompt_number": 12
    },
    {
     "cell_type": "markdown",
     "metadata": {},
     "source": [
      "## Layer 0 - First convolutional Layer\n",
      "\n",
      "The first layer takes **`(batch_size, 1, 28, 28)`** as input, convolves it with **10** different **9x9** filters, and then downsamples (via maxpooling) in a **2x2** region.  Each filter/maxpool combination produces an output of size **`(28-9+1)/2 = 10`** on a side.\n",
      "\n",
      "The size of the first layer's output is therefore **`(batch_size, 10, 10, 10)`**. "
     ]
    },
    {
     "cell_type": "code",
     "collapsed": false,
     "input": [
      "\n",
      "layer0_input_size = (batch_size, 1, 28, 28)  # fixed size from the data\n",
      "edge0 = (28 - kernel_sizes[0][0] + 1) / 2\n",
      "layer0_output_size = (batch_size, num_kernels[0], edge0, edge0)\n",
      "# check that we have an even multiple of 2 before pooling\n",
      "assert ((28 - kernel_sizes[0][0] + 1) % 2) == 0\n",
      "\n",
      "# The actual input is the placeholder x reshaped to the input size of the network\n",
      "layer0_input = x.reshape(layer0_input_size)\n",
      "\n",
      "layer0 = LeNetConvPoolLayer(rng,\n",
      "                            input=layer0_input,\n",
      "                            image_shape=layer0_input_size,\n",
      "                            filter_shape=(num_kernels[0], 1) + kernel_sizes[0],\n",
      "                            poolsize=(2, 2))"
     ],
     "language": "python",
     "metadata": {},
     "outputs": [],
     "prompt_number": 13
    },
    {
     "cell_type": "markdown",
     "metadata": {},
     "source": [
      "## Layer 1 - Second convolutional Layer\n",
      "\n",
      "The second layer takes **`(batch_size, 10, 10, 10)`** as input, convolves it with 10 different **10x5x5** filters, and then downsamples (via maxpooling) in a **2x2** region.  Each filter/maxpool combination produces an output of size **`(10-5+1)/2 = 3`** on a side.\n",
      "\n",
      "The size of the second layer's output is therefore **`(batch_size, 10, 3, 3)`**. "
     ]
    },
    {
     "cell_type": "code",
     "collapsed": false,
     "input": [
      "layer1_input_size = layer0_output_size\n",
      "edge1 = (edge0 - kernel_sizes[1][0] + 1) / 2\n",
      "layer1_output_size = (batch_size, num_kernels[1], edge1, edge1)\n",
      "# check that we have an even multiple of 2 before pooling\n",
      "assert ((edge0 - kernel_sizes[1][0] + 1) % 2) == 0\n",
      "\n",
      "layer1 = LeNetConvPoolLayer(rng,\n",
      "                            input=layer0.output,\n",
      "                            image_shape=layer1_input_size,\n",
      "                            filter_shape=(num_kernels[1], num_kernels[0]) + kernel_sizes[1],\n",
      "                            poolsize=(2, 2))"
     ],
     "language": "python",
     "metadata": {},
     "outputs": [],
     "prompt_number": 14
    },
    {
     "cell_type": "markdown",
     "metadata": {},
     "source": [
      "## Layer 2 - Fully connected sigmoidal layer\n",
      "\n",
      "The sigmoidal layer takes a vector as input.\n",
      "\n",
      "We flatten all but the first two dimensions, to get an input of size **`(batch_size, 30 * 4 * 4)`**."
     ]
    },
    {
     "cell_type": "code",
     "collapsed": false,
     "input": [
      "layer2_input = layer1.output.flatten(2)\n",
      "\n",
      "layer2 = HiddenLayer(rng,\n",
      "                     input=layer2_input,\n",
      "                     n_in=num_kernels[1] * edge1 * edge1,\n",
      "                     n_out=sigmoidal_output_size,\n",
      "                     activation=T.tanh)"
     ],
     "language": "python",
     "metadata": {},
     "outputs": [],
     "prompt_number": 15
    },
    {
     "cell_type": "markdown",
     "metadata": {},
     "source": [
      "## Layer 3 - Logistic regression output layer\n",
      "\n",
      "A fully connected logistic regression layer converts the sigmoid's layer output to a class label."
     ]
    },
    {
     "cell_type": "code",
     "collapsed": false,
     "input": [
      "layer3 = LogisticRegression(input=layer2.output,\n",
      "                            n_in=sigmoidal_output_size,\n",
      "                            n_out=10)"
     ],
     "language": "python",
     "metadata": {},
     "outputs": [],
     "prompt_number": 16
    },
    {
     "cell_type": "markdown",
     "metadata": {},
     "source": [
      "## &lt;/Convolutional Network>"
     ]
    },
    {
     "cell_type": "markdown",
     "metadata": {},
     "source": [
      "<hr>"
     ]
    },
    {
     "cell_type": "markdown",
     "metadata": {},
     "source": [
      "# Training the network\n",
      "\n",
      "To train the network, we have to define a cost function.  We'll use the Negative Log Likelihood of the model, relative to the true labels **`y`**."
     ]
    },
    {
     "cell_type": "code",
     "collapsed": false,
     "input": [
      "# The cost we minimize during training is the NLL of the model.\n",
      "# Recall: y is a placeholder we defined above\n",
      "cost = layer3.negative_log_likelihood(y)"
     ],
     "language": "python",
     "metadata": {},
     "outputs": [],
     "prompt_number": 17
    },
    {
     "cell_type": "markdown",
     "metadata": {},
     "source": [
      "### Gradient descent\n",
      "\n",
      "We will train with Stochastic Gradient Descent.  To do so, we need the gradient of the cost relative to the parameters of the model.  We can get the parameters for each label via the **`.params`** attribute."
     ]
    },
    {
     "cell_type": "code",
     "collapsed": false,
     "input": [
      "# create a list of all model parameters to be fit by gradient descent\n",
      "params = layer3.params + layer2.params + layer1.params + layer0.params\n",
      "\n",
      "# create a list of gradients for all model parameters\n",
      "grads = T.grad(cost, params)"
     ],
     "language": "python",
     "metadata": {},
     "outputs": [],
     "prompt_number": 18
    },
    {
     "cell_type": "markdown",
     "metadata": {},
     "source": [
      "## Training function\n",
      "\n",
      "The actual training function takes a batch of inputs (images **`x`** and labels **`y`**), and updates the model parameters with a small step in the steepest direction that reduces the gradient.\n",
      "\n",
      "This is the\n",
      "**`(param_i, param_i - learning_rate * grad_i)`**\n",
      "line in the code below.\n",
      "\n",
      "We use the **`updates`** keyword to **`theano.function()`** to update these variables in-place.  See [the documentation for function()](http://deeplearning.net/software/theano/library/compile/function.html).\n",
      "\n",
      "We also make use of the **`givens`** keyword, to alias **`x`** and **`y`** to batches (aka, slices) of  **`train_set_x`** and **`train_set_y`**."
     ]
    },
    {
     "cell_type": "code",
     "collapsed": false,
     "input": [
      "# train_model is a function that updates the model parameters by SGD, and returns the current cost\n",
      "#\n",
      "# We create the updates list by automatically looping over all\n",
      "# (params[i], grads[i]) pairs.\n",
      "updates = [\n",
      "    (param_i, param_i - learning_rate * grad_i)  # <=== SGD update step\n",
      "    for param_i, grad_i in zip(params, grads)\n",
      "]\n",
      "\n",
      "index = T.lscalar()  # index to a batch of training/validation/testing examples\n",
      "\n",
      "train_model = theano.function(\n",
      "    [index],\n",
      "    cost,\n",
      "    updates=updates,\n",
      "    givens={\n",
      "        x: train_set_x[index * batch_size: (index + 1) * batch_size],  # <=== batching\n",
      "        y: train_set_y[index * batch_size: (index + 1) * batch_size]   # <=== batching\n",
      "    }\n",
      ")"
     ],
     "language": "python",
     "metadata": {},
     "outputs": [
      {
       "output_type": "stream",
       "stream": "stderr",
       "text": [
        "/Users/thouis/VENV/lib/python2.7/site-packages/theano/tensor/subtensor.py:110: FutureWarning: comparison to `None` will result in an elementwise object comparison in the future.\n",
        "  start in [None, 0] or\n",
        "/Users/thouis/VENV/lib/python2.7/site-packages/theano/tensor/subtensor.py:114: FutureWarning: comparison to `None` will result in an elementwise object comparison in the future.\n",
        "  stop in [None, length, maxsize] or\n"
       ]
      }
     ],
     "prompt_number": 19
    },
    {
     "cell_type": "markdown",
     "metadata": {},
     "source": [
      "## Validation function\n",
      "\n",
      "To track progress on a held-out set, we count the number of misclassified examples in the validation set."
     ]
    },
    {
     "cell_type": "code",
     "collapsed": false,
     "input": [
      "validate_model = theano.function(\n",
      "        [index],\n",
      "        layer3.errors(y),\n",
      "        givens={\n",
      "            x: valid_set_x[index * batch_size: (index + 1) * batch_size],\n",
      "            y: valid_set_y[index * batch_size: (index + 1) * batch_size]\n",
      "        }\n",
      "    )"
     ],
     "language": "python",
     "metadata": {},
     "outputs": [],
     "prompt_number": 20
    },
    {
     "cell_type": "markdown",
     "metadata": {},
     "source": [
      "## Test function\n",
      "\n",
      "After training, we check the number of misclassified examples in the test set."
     ]
    },
    {
     "cell_type": "code",
     "collapsed": false,
     "input": [
      "test_model = theano.function(\n",
      "    [index],\n",
      "    layer3.errors(y),\n",
      "    givens={\n",
      "        x: test_set_x[index * batch_size: (index + 1) * batch_size],\n",
      "        y: test_set_y[index * batch_size: (index + 1) * batch_size]\n",
      "    }\n",
      ")"
     ],
     "language": "python",
     "metadata": {},
     "outputs": [],
     "prompt_number": 21
    },
    {
     "cell_type": "markdown",
     "metadata": {},
     "source": [
      "<hr>"
     ]
    },
    {
     "cell_type": "markdown",
     "metadata": {},
     "source": [
      "# Training loop\n",
      "\n",
      "We use SGD for a fixed number of iterations over the full training set (an \"epoch\").  Usually, we'd use a more complicated rule, such as iterating until a certain number of epochs fail to produce improvement in the validation set.  "
     ]
    },
    {
     "cell_type": "code",
     "collapsed": false,
     "input": [
      "for epoch in range(20):\n",
      "    NLL = 0.0\n",
      "    for idx in xrange(n_train_batches):\n",
      "        NLL += train_model(idx)\n",
      "    validation_losses = [validate_model(i) for i\n",
      "                         in xrange(n_valid_batches)]\n",
      "    print \"Epoch {}    NLL {:.2}    %err in validation set {:.1%}\".format(epoch + 1, NLL, np.mean(validation_losses))"
     ],
     "language": "python",
     "metadata": {},
     "outputs": [
      {
       "output_type": "stream",
       "stream": "stdout",
       "text": [
        "Epoch 1    NLL 1.7e+02    %err in validation set 24.1%\n",
        "Epoch 2    NLL 7.7e+01    %err in validation set 12.2%"
       ]
      },
      {
       "output_type": "stream",
       "stream": "stdout",
       "text": [
        "\n",
        "Epoch 3    NLL 4.7e+01    %err in validation set 9.0%"
       ]
      },
      {
       "output_type": "stream",
       "stream": "stdout",
       "text": [
        "\n",
        "Epoch 4    NLL 3.5e+01    %err in validation set 7.5%"
       ]
      },
      {
       "output_type": "stream",
       "stream": "stdout",
       "text": [
        "\n",
        "Epoch 5    NLL 2.8e+01    %err in validation set 6.4%"
       ]
      },
      {
       "output_type": "stream",
       "stream": "stdout",
       "text": [
        "\n",
        "Epoch 6    NLL 2.4e+01    %err in validation set 5.5%"
       ]
      },
      {
       "output_type": "stream",
       "stream": "stdout",
       "text": [
        "\n",
        "Epoch 7    NLL 2.1e+01    %err in validation set 5.0%"
       ]
      },
      {
       "output_type": "stream",
       "stream": "stdout",
       "text": [
        "\n",
        "Epoch 8    NLL 1.9e+01    %err in validation set 4.6%"
       ]
      },
      {
       "output_type": "stream",
       "stream": "stdout",
       "text": [
        "\n",
        "Epoch 9    NLL 1.7e+01    %err in validation set 4.1%"
       ]
      },
      {
       "output_type": "stream",
       "stream": "stdout",
       "text": [
        "\n",
        "Epoch 10    NLL 1.6e+01    %err in validation set 3.8%"
       ]
      },
      {
       "output_type": "stream",
       "stream": "stdout",
       "text": [
        "\n",
        "Epoch 11    NLL 1.4e+01    %err in validation set 3.6%"
       ]
      },
      {
       "output_type": "stream",
       "stream": "stdout",
       "text": [
        "\n",
        "Epoch 12    NLL 1.3e+01    %err in validation set 3.4%"
       ]
      },
      {
       "output_type": "stream",
       "stream": "stdout",
       "text": [
        "\n",
        "Epoch 13    NLL 1.3e+01    %err in validation set 3.3%"
       ]
      },
      {
       "output_type": "stream",
       "stream": "stdout",
       "text": [
        "\n",
        "Epoch 14    NLL 1.2e+01    %err in validation set 3.1%"
       ]
      },
      {
       "output_type": "stream",
       "stream": "stdout",
       "text": [
        "\n",
        "Epoch 15    NLL 1.1e+01    %err in validation set 3.0%"
       ]
      },
      {
       "output_type": "stream",
       "stream": "stdout",
       "text": [
        "\n",
        "Epoch 16    NLL 1.1e+01    %err in validation set 2.8%"
       ]
      },
      {
       "output_type": "stream",
       "stream": "stdout",
       "text": [
        "\n",
        "Epoch 17    NLL 1e+01    %err in validation set 2.7%"
       ]
      },
      {
       "output_type": "stream",
       "stream": "stdout",
       "text": [
        "\n",
        "Epoch 18    NLL 9.6    %err in validation set 2.6%"
       ]
      },
      {
       "output_type": "stream",
       "stream": "stdout",
       "text": [
        "\n",
        "Epoch 19    NLL 9.2    %err in validation set 2.6%"
       ]
      },
      {
       "output_type": "stream",
       "stream": "stdout",
       "text": [
        "\n",
        "Epoch 20    NLL 8.8    %err in validation set 2.5%"
       ]
      },
      {
       "output_type": "stream",
       "stream": "stdout",
       "text": [
        "\n"
       ]
      }
     ],
     "prompt_number": 22
    },
    {
     "cell_type": "markdown",
     "metadata": {},
     "source": [
      "## Learned features\n",
      "\n",
      "We can visualize the filters learned by the first layer.  In most vision tasks, these will be simple features, such as lines, points, or edges (such as in Figure 2 of [this paper](http://www.cs.toronto.edu/~rgrosse/icml09-cdbn.pdf)).\n",
      "\n",
      "The MNIST data doesn't contain as much variation as natural images, so we don't see as obvious edge features, but we sitll see some stroke-like features appearing in the lowest level.  With some standard tricks (adding noise to the training set, shifting examples around, using Dropout), we'd probably see more."
     ]
    },
    {
     "cell_type": "code",
     "collapsed": false,
     "input": [
      "filters = tile_raster_images(layer0.W.get_value(borrow=True), img_shape=(9, 9), tile_shape=(1,10), tile_spacing=(3, 3),\n",
      "                       scale_rows_to_unit_interval=True,\n",
      "                       output_pixel_vals=True)\n",
      "\n",
      "plt.imshow(filters)\n",
      "plt.show()"
     ],
     "language": "python",
     "metadata": {},
     "outputs": [
      {
       "metadata": {},
       "output_type": "display_data",
       "png": "[encoded data removed]",
       "text": [
        "<matplotlib.figure.Figure at 0x11d120f50>"
       ]
      }
     ],
     "prompt_number": 23
    },
    {
     "cell_type": "markdown",
     "metadata": {},
     "source": [
      "## Check performance on the test set"
     ]
    },
    {
     "cell_type": "code",
     "collapsed": false,
     "input": [
      "test_errors = [test_model(i) for i in range(n_test_batches)]\n",
      "print \"test errors: {:.1%}\".format(np.mean(test_errors))"
     ],
     "language": "python",
     "metadata": {},
     "outputs": [
      {
       "output_type": "stream",
       "stream": "stdout",
       "text": [
        "test errors: 2.6%\n"
       ]
      }
     ],
     "prompt_number": 24
    }
   ],
   "metadata": {}
  }
 ]
}